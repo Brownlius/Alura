{
  "nbformat": 4,
  "nbformat_minor": 0,
  "metadata": {
    "colab": {
      "name": "Aula04.ipynb",
      "provenance": [],
      "collapsed_sections": []
    },
    "kernelspec": {
      "name": "python3",
      "display_name": "Python 3"
    }
  },
  "cells": [
    {
      "cell_type": "code",
      "metadata": {
        "id": "4w8iNgp59SZ1",
        "outputId": "41654c8e-5641-452c-b2f2-cd30cc12064f",
        "colab": {
          "base_uri": "https://localhost:8080/"
        }
      },
      "source": [
        "with open(\"artigos.txt\", \"r\") as f:\n",
        "    artigos = f.read()\n",
        "\n",
        "print(artigos[:500])"
      ],
      "execution_count": 1,
      "outputs": [
        {
          "output_type": "stream",
          "name": "stdout",
          "text": [
            "\n",
            "\n",
            "\n",
            "imagem \n",
            "\n",
            "Temos a seguinte classe que representa um usuário no nosso sistema:\n",
            "\n",
            "java\n",
            "\n",
            "Para salvar um novo usuário, várias validações são feitas, como por exemplo: Ver se o nome só contém letras, [**o CPF só números**] e ver se o usuário possui no mínimo 18 anos. Veja o método que faz essa validação:\n",
            "\n",
            "java \n",
            "\n",
            "Suponha agora que eu tenha outra classe, a classe `Produto`, que contém um atributo nome e eu quero fazer a mesma validação que fiz para o nome do usuário: Ver se só contém letras. E aí? Vou\n"
          ]
        }
      ]
    },
    {
      "cell_type": "code",
      "metadata": {
        "id": "CMiQsS__KL8a",
        "outputId": "1a86503f-b2c6-46af-8e6e-a898fbf175e8",
        "colab": {
          "base_uri": "https://localhost:8080/"
        }
      },
      "source": [
        "len(artigos)"
      ],
      "execution_count": 2,
      "outputs": [
        {
          "output_type": "execute_result",
          "data": {
            "text/plain": [
              "1020857"
            ]
          },
          "metadata": {},
          "execution_count": 2
        }
      ]
    },
    {
      "cell_type": "code",
      "metadata": {
        "id": "jRJUTZfnK-CI",
        "outputId": "73db869f-e168-4d5a-89c0-9daa88239fa5",
        "colab": {
          "base_uri": "https://localhost:8080/"
        }
      },
      "source": [
        "len(\"Olá\")"
      ],
      "execution_count": 3,
      "outputs": [
        {
          "output_type": "execute_result",
          "data": {
            "text/plain": [
              "3"
            ]
          },
          "metadata": {},
          "execution_count": 3
        }
      ]
    },
    {
      "cell_type": "code",
      "metadata": {
        "id": "d2bc3aDULNe4"
      },
      "source": [
        "texto_exemplo = \"Olá, tudo bem?\"\n",
        "tokens = texto_exemplo.split()"
      ],
      "execution_count": 4,
      "outputs": []
    },
    {
      "cell_type": "code",
      "metadata": {
        "id": "e7kg1lbNLmnt",
        "outputId": "47a7f246-c92f-47c7-e659-b417051b6998",
        "colab": {
          "base_uri": "https://localhost:8080/"
        }
      },
      "source": [
        "print(len(tokens))"
      ],
      "execution_count": 5,
      "outputs": [
        {
          "output_type": "stream",
          "name": "stdout",
          "text": [
            "3\n"
          ]
        }
      ]
    },
    {
      "cell_type": "code",
      "metadata": {
        "id": "ZTJCUj_wLqJ9",
        "outputId": "fd5b58d3-c2d9-4f0f-86eb-fde1cde066d4",
        "colab": {
          "base_uri": "https://localhost:8080/"
        }
      },
      "source": [
        "print(tokens)"
      ],
      "execution_count": 6,
      "outputs": [
        {
          "output_type": "stream",
          "name": "stdout",
          "text": [
            "['Olá,', 'tudo', 'bem?']\n"
          ]
        }
      ]
    },
    {
      "cell_type": "code",
      "metadata": {
        "id": "5H3VpslwSHc0",
        "outputId": "7d0c4bcf-4772-4741-9864-d4eb3b6e8923",
        "colab": {
          "base_uri": "https://localhost:8080/"
        }
      },
      "source": [
        "import nltk\n",
        "nltk.download('punkt')\n",
        "palavras_separadas = nltk.tokenize.word_tokenize(texto_exemplo)\n",
        "print(palavras_separadas)"
      ],
      "execution_count": 7,
      "outputs": [
        {
          "output_type": "stream",
          "name": "stdout",
          "text": [
            "[nltk_data] Downloading package punkt to /root/nltk_data...\n",
            "[nltk_data]   Unzipping tokenizers/punkt.zip.\n",
            "['Olá', ',', 'tudo', 'bem', '?']\n"
          ]
        }
      ]
    },
    {
      "cell_type": "code",
      "metadata": {
        "id": "h5xU2joIS6Z8",
        "outputId": "0dd6da79-ea1b-492e-8aca-7a07efd7b2c7",
        "colab": {
          "base_uri": "https://localhost:8080/"
        }
      },
      "source": [
        "print(palavras_separadas)"
      ],
      "execution_count": 8,
      "outputs": [
        {
          "output_type": "stream",
          "name": "stdout",
          "text": [
            "['Olá', ',', 'tudo', 'bem', '?']\n"
          ]
        }
      ]
    },
    {
      "cell_type": "code",
      "metadata": {
        "id": "pzMCe-2FE4lS",
        "outputId": "36c61cc7-e9c0-4fd2-9439-cd35b3fa4d17",
        "colab": {
          "base_uri": "https://localhost:8080/"
        }
      },
      "source": [
        "len(palavras_separadas)"
      ],
      "execution_count": 9,
      "outputs": [
        {
          "output_type": "execute_result",
          "data": {
            "text/plain": [
              "5"
            ]
          },
          "metadata": {},
          "execution_count": 9
        }
      ]
    },
    {
      "cell_type": "code",
      "metadata": {
        "id": "898inn-nGTOM",
        "outputId": "90e65e84-c474-4e57-97b1-c5eb1ed1206a",
        "colab": {
          "base_uri": "https://localhost:8080/"
        }
      },
      "source": [
        "'./'.isalpha()"
      ],
      "execution_count": 10,
      "outputs": [
        {
          "output_type": "execute_result",
          "data": {
            "text/plain": [
              "False"
            ]
          },
          "metadata": {},
          "execution_count": 10
        }
      ]
    },
    {
      "cell_type": "code",
      "metadata": {
        "id": "tjLIUpcRF0gG",
        "outputId": "5e8c3050-6f32-4226-9195-6550882f71ef",
        "colab": {
          "base_uri": "https://localhost:8080/"
        }
      },
      "source": [
        "def separa_palavras(lista_tokens):\n",
        "    lista_palavras = []\n",
        "    for token in lista_tokens:\n",
        "        if token.isalpha():\n",
        "            lista_palavras.append(token)\n",
        "    return lista_palavras\n",
        "\n",
        "separa_palavras(palavras_separadas)"
      ],
      "execution_count": 11,
      "outputs": [
        {
          "output_type": "execute_result",
          "data": {
            "text/plain": [
              "['Olá', 'tudo', 'bem']"
            ]
          },
          "metadata": {},
          "execution_count": 11
        }
      ]
    },
    {
      "cell_type": "code",
      "metadata": {
        "id": "aoQ-5crVHFgx",
        "outputId": "55651cdb-91ea-48b4-8a69-9e7733c1cd39",
        "colab": {
          "base_uri": "https://localhost:8080/"
        }
      },
      "source": [
        "lista_tokens = nltk.tokenize.word_tokenize(artigos)\n",
        "lista_palavras = separa_palavras(lista_tokens)\n",
        "print(f\"Número de palavras é {len(lista_palavras)}\")"
      ],
      "execution_count": 12,
      "outputs": [
        {
          "output_type": "stream",
          "name": "stdout",
          "text": [
            "Número de palavras é 154339\n"
          ]
        }
      ]
    },
    {
      "cell_type": "code",
      "metadata": {
        "id": "C9yf23zIfsg6",
        "outputId": "1a71a461-155d-409f-c1c7-f458f8438450",
        "colab": {
          "base_uri": "https://localhost:8080/"
        }
      },
      "source": [
        "print(lista_palavras[:10])\n"
      ],
      "execution_count": 13,
      "outputs": [
        {
          "output_type": "stream",
          "name": "stdout",
          "text": [
            "['imagem', 'Temos', 'a', 'seguinte', 'classe', 'que', 'representa', 'um', 'usuário', 'no']\n"
          ]
        }
      ]
    },
    {
      "cell_type": "code",
      "metadata": {
        "id": "SHsX7m5WfzjU",
        "outputId": "8bfd4665-f2d5-4ba4-80ee-79dd8904a7f7",
        "colab": {
          "base_uri": "https://localhost:8080/"
        }
      },
      "source": [
        "def normalizacao(lista_palavras):\n",
        "    lista_normalizada = []\n",
        "    for palavra in lista_palavras:\n",
        "        lista_normalizada.append(palavra.lower())\n",
        "    return lista_normalizada\n",
        "\n",
        "lista_normalizada = normalizacao(lista_palavras)\n",
        "print(lista_normalizada[:10])"
      ],
      "execution_count": 14,
      "outputs": [
        {
          "output_type": "stream",
          "name": "stdout",
          "text": [
            "['imagem', 'temos', 'a', 'seguinte', 'classe', 'que', 'representa', 'um', 'usuário', 'no']\n"
          ]
        }
      ]
    },
    {
      "cell_type": "code",
      "metadata": {
        "id": "aiaBKar-nBRA",
        "outputId": "e485d7ce-30e2-42db-fc66-27f53b5c3190",
        "colab": {
          "base_uri": "https://localhost:8080/"
        }
      },
      "source": [
        "len(set(lista_normalizada))"
      ],
      "execution_count": 15,
      "outputs": [
        {
          "output_type": "execute_result",
          "data": {
            "text/plain": [
              "11262"
            ]
          },
          "metadata": {},
          "execution_count": 15
        }
      ]
    },
    {
      "cell_type": "code",
      "metadata": {
        "id": "GRqG3LbXOa0T",
        "outputId": "8b800dd3-c77b-43d6-b914-7dfcbaee2336",
        "colab": {
          "base_uri": "https://localhost:8080/"
        }
      },
      "source": [
        "lista = \"lgica\"\n",
        "(lista[:1],lista[1:])"
      ],
      "execution_count": 16,
      "outputs": [
        {
          "output_type": "execute_result",
          "data": {
            "text/plain": [
              "('l', 'gica')"
            ]
          },
          "metadata": {},
          "execution_count": 16
        }
      ]
    },
    {
      "cell_type": "code",
      "metadata": {
        "id": "A4iflAEdOERO",
        "outputId": "0dbae104-5f88-42d1-b4e2-634664b49ceb",
        "colab": {
          "base_uri": "https://localhost:8080/"
        }
      },
      "source": [
        "palavra_exemplo = \"lgica\"\n",
        "\n",
        "def insere_letras(fatias):\n",
        "    novas_palavras = []\n",
        "    letras = 'abcdefghijklmnopqrstuvwxyzáâàãéêèẽíîìĩóôõòúûùũç'\n",
        "    for E, D in fatias:\n",
        "        for letra in letras:\n",
        "            novas_palavras.append(E + letra + D)\n",
        "    return novas_palavras\n",
        "\n",
        "def gerador_palavras(palavra):\n",
        "    fatias = []\n",
        "    for i in range(len(palavra)+1):\n",
        "        fatias.append((palavra[:i],palavra[i:]))\n",
        "    palavras_geradas = insere_letras(fatias)\n",
        "    return palavras_geradas\n",
        "\n",
        "palavras_geradas = gerador_palavras(palavra_exemplo)\n",
        "print(palavras_geradas)"
      ],
      "execution_count": 17,
      "outputs": [
        {
          "output_type": "stream",
          "name": "stdout",
          "text": [
            "['algica', 'blgica', 'clgica', 'dlgica', 'elgica', 'flgica', 'glgica', 'hlgica', 'ilgica', 'jlgica', 'klgica', 'llgica', 'mlgica', 'nlgica', 'olgica', 'plgica', 'qlgica', 'rlgica', 'slgica', 'tlgica', 'ulgica', 'vlgica', 'wlgica', 'xlgica', 'ylgica', 'zlgica', 'álgica', 'âlgica', 'àlgica', 'ãlgica', 'élgica', 'êlgica', 'èlgica', 'ẽlgica', 'ílgica', 'îlgica', 'ìlgica', 'ĩlgica', 'ólgica', 'ôlgica', 'õlgica', 'òlgica', 'úlgica', 'ûlgica', 'ùlgica', 'ũlgica', 'çlgica', 'lagica', 'lbgica', 'lcgica', 'ldgica', 'legica', 'lfgica', 'lggica', 'lhgica', 'ligica', 'ljgica', 'lkgica', 'llgica', 'lmgica', 'lngica', 'logica', 'lpgica', 'lqgica', 'lrgica', 'lsgica', 'ltgica', 'lugica', 'lvgica', 'lwgica', 'lxgica', 'lygica', 'lzgica', 'lágica', 'lâgica', 'làgica', 'lãgica', 'légica', 'lêgica', 'lègica', 'lẽgica', 'lígica', 'lîgica', 'lìgica', 'lĩgica', 'lógica', 'lôgica', 'lõgica', 'lògica', 'lúgica', 'lûgica', 'lùgica', 'lũgica', 'lçgica', 'lgaica', 'lgbica', 'lgcica', 'lgdica', 'lgeica', 'lgfica', 'lggica', 'lghica', 'lgiica', 'lgjica', 'lgkica', 'lglica', 'lgmica', 'lgnica', 'lgoica', 'lgpica', 'lgqica', 'lgrica', 'lgsica', 'lgtica', 'lguica', 'lgvica', 'lgwica', 'lgxica', 'lgyica', 'lgzica', 'lgáica', 'lgâica', 'lgàica', 'lgãica', 'lgéica', 'lgêica', 'lgèica', 'lgẽica', 'lgíica', 'lgîica', 'lgìica', 'lgĩica', 'lgóica', 'lgôica', 'lgõica', 'lgòica', 'lgúica', 'lgûica', 'lgùica', 'lgũica', 'lgçica', 'lgiaca', 'lgibca', 'lgicca', 'lgidca', 'lgieca', 'lgifca', 'lgigca', 'lgihca', 'lgiica', 'lgijca', 'lgikca', 'lgilca', 'lgimca', 'lginca', 'lgioca', 'lgipca', 'lgiqca', 'lgirca', 'lgisca', 'lgitca', 'lgiuca', 'lgivca', 'lgiwca', 'lgixca', 'lgiyca', 'lgizca', 'lgiáca', 'lgiâca', 'lgiàca', 'lgiãca', 'lgiéca', 'lgiêca', 'lgièca', 'lgiẽca', 'lgiíca', 'lgiîca', 'lgiìca', 'lgiĩca', 'lgióca', 'lgiôca', 'lgiõca', 'lgiòca', 'lgiúca', 'lgiûca', 'lgiùca', 'lgiũca', 'lgiçca', 'lgicaa', 'lgicba', 'lgicca', 'lgicda', 'lgicea', 'lgicfa', 'lgicga', 'lgicha', 'lgicia', 'lgicja', 'lgicka', 'lgicla', 'lgicma', 'lgicna', 'lgicoa', 'lgicpa', 'lgicqa', 'lgicra', 'lgicsa', 'lgicta', 'lgicua', 'lgicva', 'lgicwa', 'lgicxa', 'lgicya', 'lgicza', 'lgicáa', 'lgicâa', 'lgicàa', 'lgicãa', 'lgicéa', 'lgicêa', 'lgicèa', 'lgicẽa', 'lgicía', 'lgicîa', 'lgicìa', 'lgicĩa', 'lgicóa', 'lgicôa', 'lgicõa', 'lgicòa', 'lgicúa', 'lgicûa', 'lgicùa', 'lgicũa', 'lgicça', 'lgicaa', 'lgicab', 'lgicac', 'lgicad', 'lgicae', 'lgicaf', 'lgicag', 'lgicah', 'lgicai', 'lgicaj', 'lgicak', 'lgical', 'lgicam', 'lgican', 'lgicao', 'lgicap', 'lgicaq', 'lgicar', 'lgicas', 'lgicat', 'lgicau', 'lgicav', 'lgicaw', 'lgicax', 'lgicay', 'lgicaz', 'lgicaá', 'lgicaâ', 'lgicaà', 'lgicaã', 'lgicaé', 'lgicaê', 'lgicaè', 'lgicaẽ', 'lgicaí', 'lgicaî', 'lgicaì', 'lgicaĩ', 'lgicaó', 'lgicaô', 'lgicaõ', 'lgicaò', 'lgicaú', 'lgicaû', 'lgicaù', 'lgicaũ', 'lgicaç']\n"
          ]
        }
      ]
    },
    {
      "cell_type": "code",
      "metadata": {
        "id": "ot_OdS6JbHsJ"
      },
      "source": [
        "def corretor(palavra):\n",
        "    palavras_geradas = gerador_palavras(palavra)\n",
        "    palavra_correta = max(palavras_geradas, key=probabilidade)\n",
        "    return palavra_correta"
      ],
      "execution_count": 18,
      "outputs": []
    },
    {
      "cell_type": "code",
      "metadata": {
        "id": "52O3NR0TUsOD",
        "outputId": "c8e0e22d-5b76-473d-f982-e234565cce5c",
        "colab": {
          "base_uri": "https://localhost:8080/"
        }
      },
      "source": [
        "frequencia = nltk.FreqDist(lista_normalizada)\n",
        "total_palavras = len(lista_normalizada)\n",
        "frequencia.most_common(10)"
      ],
      "execution_count": 19,
      "outputs": [
        {
          "output_type": "execute_result",
          "data": {
            "text/plain": [
              "[('de', 6060),\n",
              " ('o', 5321),\n",
              " ('que', 4662),\n",
              " ('a', 4325),\n",
              " ('e', 4220),\n",
              " ('para', 3057),\n",
              " ('um', 2498),\n",
              " ('é', 2349),\n",
              " ('uma', 2061),\n",
              " ('com', 1931)]"
            ]
          },
          "metadata": {},
          "execution_count": 19
        }
      ]
    },
    {
      "cell_type": "code",
      "metadata": {
        "id": "rOE_KSwhWFtj",
        "outputId": "19063c8a-ed9c-404e-e407-3c4ba6ea866b",
        "colab": {
          "base_uri": "https://localhost:8080/"
        }
      },
      "source": [
        "def probabilidade(palavra_gerada):\n",
        "    return frequencia[palavra_gerada]/total_palavras\n",
        "\n",
        "probabilidade(\"logica\")"
      ],
      "execution_count": 20,
      "outputs": [
        {
          "output_type": "execute_result",
          "data": {
            "text/plain": [
              "0.0"
            ]
          },
          "metadata": {},
          "execution_count": 20
        }
      ]
    },
    {
      "cell_type": "code",
      "metadata": {
        "id": "iRZQIUebW5Bx",
        "outputId": "3fd0e054-e487-4b3a-ea86-5980642e3022",
        "colab": {
          "base_uri": "https://localhost:8080/"
        }
      },
      "source": [
        "probabilidade(\"lógica\")"
      ],
      "execution_count": 21,
      "outputs": [
        {
          "output_type": "execute_result",
          "data": {
            "text/plain": [
              "0.00030452445590550673"
            ]
          },
          "metadata": {},
          "execution_count": 21
        }
      ]
    },
    {
      "cell_type": "code",
      "metadata": {
        "id": "ZbyrWgi8XFaQ",
        "outputId": "8ccf33a3-af0a-4d53-964a-0c1c31694288",
        "colab": {
          "base_uri": "https://localhost:8080/",
          "height": 35
        }
      },
      "source": [
        "corretor(palavra_exemplo)"
      ],
      "execution_count": 22,
      "outputs": [
        {
          "output_type": "execute_result",
          "data": {
            "text/plain": [
              "'lógica'"
            ],
            "application/vnd.google.colaboratory.intrinsic+json": {
              "type": "string"
            }
          },
          "metadata": {},
          "execution_count": 22
        }
      ]
    },
    {
      "cell_type": "code",
      "metadata": {
        "id": "wwehYS7MdaTB",
        "outputId": "47586713-0bb0-43c8-fb0b-b01a99310fac",
        "colab": {
          "base_uri": "https://localhost:8080/"
        }
      },
      "source": [
        "def cria_dados_teste(nome_arquivo):\n",
        "    lista_palavras_teste = []\n",
        "    f = open(nome_arquivo, \"r\")\n",
        "    for linha in f:\n",
        "        correta, errada = linha.split()\n",
        "        lista_palavras_teste.append((correta, errada))\n",
        "    f.close()\n",
        "    return lista_palavras_teste\n",
        "\n",
        "lista_teste = cria_dados_teste(\"palavras.txt\")\n",
        "lista_teste"
      ],
      "execution_count": 23,
      "outputs": [
        {
          "output_type": "execute_result",
          "data": {
            "text/plain": [
              "[('podemos', 'pyodemos'),\n",
              " ('esse', 'esje'),\n",
              " ('já', 'jrá'),\n",
              " ('nosso', 'nossov'),\n",
              " ('são', 'sãêo'),\n",
              " ('dos', 'dosa'),\n",
              " ('muito', 'muifo'),\n",
              " ('imagem', 'iômagem'),\n",
              " ('sua', 'ósua'),\n",
              " ('também', 'tambéùm'),\n",
              " ('ele', 'eme'),\n",
              " ('fazer', 'èazer'),\n",
              " ('temos', 'temfs'),\n",
              " ('essa', 'eàssa'),\n",
              " ('quando', 'quaôdo'),\n",
              " ('vamos', 'vamvos'),\n",
              " ('sobre', 'hsobre'),\n",
              " ('java', 'sjava'),\n",
              " ('das', 'daõs'),\n",
              " ('agora', 'agorah'),\n",
              " ('está', 'eòtá'),\n",
              " ('cada', 'céda'),\n",
              " ('mesmo', 'zmesmo'),\n",
              " ('nos', 'noâ'),\n",
              " ('forma', 'fobma'),\n",
              " ('seja', 'sejéa'),\n",
              " ('então', 'enêão'),\n",
              " ('criar', 'èriar'),\n",
              " ('código', 'cóeigo'),\n",
              " ('caso', 'casío'),\n",
              " ('exemplo', 'áexemplo'),\n",
              " ('tem', 'tĩem'),\n",
              " ('usuário', 'usuárôio'),\n",
              " ('dados', 'dfados'),\n",
              " ('python', 'pgthon'),\n",
              " ('nossa', 'nossah'),\n",
              " ('além', 'alémè'),\n",
              " ('assim', 'asõim'),\n",
              " ('ter', 'teb'),\n",
              " ('até', 'atĩ'),\n",
              " ('bem', 'âem'),\n",
              " ('design', 'desigen'),\n",
              " ('trabalho', 'trabalàho'),\n",
              " ('foi', 'foo'),\n",
              " ('apenas', 'apenaũ'),\n",
              " ('empresa', 'empresà'),\n",
              " ('valor', 'valíor'),\n",
              " ('será', 'serr'),\n",
              " ('entre', 'entke'),\n",
              " ('método', 'méqodo'),\n",
              " ('precisamos', 'precisamops'),\n",
              " ('ainda', 'ainàa'),\n",
              " ('vai', 'van'),\n",
              " ('conteúdo', 'ûconteúdo'),\n",
              " ('seus', 'çeus'),\n",
              " ('eu', 'eû'),\n",
              " ('todos', 'todtos'),\n",
              " ('tempo', 'temeo'),\n",
              " ('sempre', 'semre'),\n",
              " ('qual', 'quakl'),\n",
              " ('ela', 'elaá'),\n",
              " ('só', 'síó'),\n",
              " ('utilizar', 'utiqizar'),\n",
              " ('projeto', 'prhojeto'),\n",
              " ('site', 'siàe'),\n",
              " ('sem', 'seém'),\n",
              " ('pelo', 'peln'),\n",
              " ('alura', 'aléra'),\n",
              " ('dia', 'tdia'),\n",
              " ('tudo', 'tuúo'),\n",
              " ('podemos', 'kpodemos'),\n",
              " ('esse', 'eẽsse'),\n",
              " ('já', 'jé'),\n",
              " ('nosso', 'nçosso'),\n",
              " ('são', 'sãô'),\n",
              " ('dos', 'odos'),\n",
              " ('muito', 'tuito'),\n",
              " ('imagem', 'imõgem'),\n",
              " ('sua', 'siua'),\n",
              " ('também', 'tamvbém'),\n",
              " ('ele', 'elpe'),\n",
              " ('fazer', 'façzer'),\n",
              " ('temos', 'teos'),\n",
              " ('essa', 'eũsa'),\n",
              " ('quando', 'quaìdo'),\n",
              " ('vamos', 'vjmos'),\n",
              " ('sobre', 'sxobre'),\n",
              " ('java', 'jkva'),\n",
              " ('das', 'dms'),\n",
              " ('agora', 'agtora'),\n",
              " ('está', 'esútá'),\n",
              " ('cada', 'cava'),\n",
              " ('mesmo', 'medmo'),\n",
              " ('nos', 'ános'),\n",
              " ('forma', 'forûa'),\n",
              " ('seja', 'smeja'),\n",
              " ('então', 'enjtão'),\n",
              " ('criar', 'criôar'),\n",
              " ('código', 'cóàigo'),\n",
              " ('caso', 'èaso'),\n",
              " ('exemplo', 'exbemplo'),\n",
              " ('tem', 'túem'),\n",
              " ('usuário', 'usuárin'),\n",
              " ('dados', 'daáos'),\n",
              " ('python', 'pythoçn'),\n",
              " ('nossa', 'nossk'),\n",
              " ('além', 'âlém'),\n",
              " ('assim', 'aóssim'),\n",
              " ('ter', 'tãer'),\n",
              " ('até', 'vté'),\n",
              " ('bem', 'búm'),\n",
              " ('design', 'íesign'),\n",
              " ('trabalho', 'trabèalho'),\n",
              " ('foi', 'kfoi'),\n",
              " ('apenas', 'aapenas'),\n",
              " ('empresa', 'pmpresa'),\n",
              " ('valor', 'valoqr'),\n",
              " ('será', 'sçerá'),\n",
              " ('entre', 'entró'),\n",
              " ('método', 'nétodo'),\n",
              " ('precisamos', 'prefcisamos'),\n",
              " ('ainda', 'sainda'),\n",
              " ('vai', 'uai'),\n",
              " ('conteúdo', 'cĩonteúdo'),\n",
              " ('seus', 'sâus'),\n",
              " ('eu', 'ìeu'),\n",
              " ('todos', 'todás'),\n",
              " ('tempo', 'utempo'),\n",
              " ('sempre', 'sempce'),\n",
              " ('qual', 'fual'),\n",
              " ('ela', 'elal'),\n",
              " ('só', 'skó'),\n",
              " ('utilizar', 'utilĩzar'),\n",
              " ('projeto', 'proójeto'),\n",
              " ('site', 'isite'),\n",
              " ('sem', 'secm'),\n",
              " ('pelo', 'pẽlo'),\n",
              " ('alura', 'aluéa'),\n",
              " ('dia', 'dil'),\n",
              " ('tudo', 'tudy'),\n",
              " ('ela', 'qelay'),\n",
              " ('só', 'sód'),\n",
              " ('utilizar', 'dtilizacr'),\n",
              " ('projeto', 'bprojõto'),\n",
              " ('site', 'ysiteo'),\n",
              " ('sem', 'sõêm'),\n",
              " ('pelo', 'peàli'),\n",
              " ('alura', 'asuraó'),\n",
              " ('dia', 'deiìa'),\n",
              " ('tudo', 'tuĩdoì'),\n",
              " ('ela', 'eúaa'),\n",
              " ('só', 'ró'),\n",
              " ('utilizar', 'utilizẽaçr'),\n",
              " ('projeto', 'prêjetó'),\n",
              " ('site', 'sqiqte'),\n",
              " ('sem', 'sũexm'),\n",
              " ('pelo', 'pçlxo'),\n",
              " ('alura', 'uluraa'),\n",
              " ('dia', 'dĩaz'),\n",
              " ('tudo', 'kzudo'),\n",
              " ('corretor', 'correptor'),\n",
              " ('tática', 'trtica'),\n",
              " ('empoderamento', 'ewpoderamento'),\n",
              " ('linux', 'lifux'),\n",
              " ('cachorro', 'cachoçro'),\n",
              " ('gato', 'îgato'),\n",
              " ('cavalo', 'cakvalo'),\n",
              " ('relógio', 'relógiuo'),\n",
              " ('canela', 'canelac'),\n",
              " ('tênis', 'tênisy'),\n",
              " ('ansiosa', 'anciosa'),\n",
              " ('ansiosa', 'ancciosa'),\n",
              " ('ansiosa', 'ansioa'),\n",
              " ('empoderamento', 'empoderamento'),\n",
              " ('asterisco', 'asterístico'),\n",
              " ('gratuito', 'gratuíto'),\n",
              " ('entretido', 'entertido'),\n",
              " ('ritmo', 'ritimo'),\n",
              " ('idiota', 'indiota'),\n",
              " ('tomara', 'tomare'),\n",
              " ('seja', 'seje'),\n",
              " ('prevalecer', 'provalecer'),\n",
              " ('esteja', 'esteje'),\n",
              " ('mendigo', 'mindigo'),\n",
              " ('cérebro', 'célebro'),\n",
              " ('perturbar', 'pertubar')]"
            ]
          },
          "metadata": {},
          "execution_count": 23
        }
      ]
    },
    {
      "cell_type": "code",
      "metadata": {
        "id": "OdtegimbivRj",
        "outputId": "9c25c323-20df-4a51-ecce-2ab2b19a477b",
        "colab": {
          "base_uri": "https://localhost:8080/"
        }
      },
      "source": [
        "def avaliador(testes):\n",
        "    numero_palavras = len(testes)\n",
        "    acertou = 0\n",
        "    for correta, errada in testes:\n",
        "        palavra_corrigida = corretor(errada)\n",
        "        if palavra_corrigida == correta:\n",
        "            print(correta)\n",
        "            acertou += 1\n",
        "    print(acertou)\n",
        "    print(numero_palavras)\n",
        "    taxa_acerto = round(acertou*100/numero_palavras, 2)\n",
        "    print(f\"{taxa_acerto}% de {numero_palavras} palavras\")\n",
        "\n",
        "avaliador(lista_teste)"
      ],
      "execution_count": 24,
      "outputs": [
        {
          "output_type": "stream",
          "name": "stdout",
          "text": [
            "sempre\n",
            "temos\n",
            "2\n",
            "186\n",
            "1.08% de 186 palavras\n"
          ]
        }
      ]
    },
    {
      "cell_type": "code",
      "metadata": {
        "id": "CcQQ8ygzmm5h"
      },
      "source": [
        "def deletando_letras(fatias):\n",
        "  novas_palavras = []\n",
        "  for E, D in fatias:\n",
        "    novas_palavras.append(E + D [1:])\n",
        "  return novas_palavras"
      ],
      "execution_count": 26,
      "outputs": []
    },
    {
      "cell_type": "code",
      "source": [
        "gerador_palavras()"
      ],
      "metadata": {
        "colab": {
          "base_uri": "https://localhost:8080/",
          "height": 165
        },
        "id": "29p9SPmSVMBG",
        "outputId": "a844aee5-6514-41a8-8abd-c0c596c32981"
      },
      "execution_count": 27,
      "outputs": [
        {
          "output_type": "error",
          "ename": "TypeError",
          "evalue": "ignored",
          "traceback": [
            "\u001b[0;31m---------------------------------------------------------------------------\u001b[0m",
            "\u001b[0;31mTypeError\u001b[0m                                 Traceback (most recent call last)",
            "\u001b[0;32m<ipython-input-27-04b6e113df9d>\u001b[0m in \u001b[0;36m<module>\u001b[0;34m()\u001b[0m\n\u001b[0;32m----> 1\u001b[0;31m \u001b[0mgerador_palavras\u001b[0m\u001b[0;34m(\u001b[0m\u001b[0;34m)\u001b[0m\u001b[0;34m\u001b[0m\u001b[0;34m\u001b[0m\u001b[0m\n\u001b[0m",
            "\u001b[0;31mTypeError\u001b[0m: gerador_palavras() missing 1 required positional argument: 'palavra'"
          ]
        }
      ]
    },
    {
      "cell_type": "code",
      "source": [
        "def gerador_palavras(palavra):\n",
        "    fatias = []\n",
        "    for i in range(len(palavra)+1):\n",
        "        fatias.append((palavra[:i],palavra[i:]))\n",
        "    palavras_geradas = insere_letras(fatias)\n",
        "    palavras_geradas += deletando_letras(fatias)\n",
        "    return palavras_geradas\n",
        "palavra_exemplo = \"lóigica\"\n",
        "palavras_geradas = gerador_palavras(palavra_exemplo)\n",
        "print(palavras_geradas)"
      ],
      "metadata": {
        "colab": {
          "base_uri": "https://localhost:8080/"
        },
        "id": "AdcFroPEV2id",
        "outputId": "8eafb30e-0b3c-47b1-9bb2-b540ffe9e597"
      },
      "execution_count": 28,
      "outputs": [
        {
          "output_type": "stream",
          "name": "stdout",
          "text": [
            "['alóigica', 'blóigica', 'clóigica', 'dlóigica', 'elóigica', 'flóigica', 'glóigica', 'hlóigica', 'ilóigica', 'jlóigica', 'klóigica', 'llóigica', 'mlóigica', 'nlóigica', 'olóigica', 'plóigica', 'qlóigica', 'rlóigica', 'slóigica', 'tlóigica', 'ulóigica', 'vlóigica', 'wlóigica', 'xlóigica', 'ylóigica', 'zlóigica', 'álóigica', 'âlóigica', 'àlóigica', 'ãlóigica', 'élóigica', 'êlóigica', 'èlóigica', 'ẽlóigica', 'ílóigica', 'îlóigica', 'ìlóigica', 'ĩlóigica', 'ólóigica', 'ôlóigica', 'õlóigica', 'òlóigica', 'úlóigica', 'ûlóigica', 'ùlóigica', 'ũlóigica', 'çlóigica', 'laóigica', 'lbóigica', 'lcóigica', 'ldóigica', 'leóigica', 'lfóigica', 'lgóigica', 'lhóigica', 'lióigica', 'ljóigica', 'lkóigica', 'llóigica', 'lmóigica', 'lnóigica', 'loóigica', 'lpóigica', 'lqóigica', 'lróigica', 'lsóigica', 'ltóigica', 'luóigica', 'lvóigica', 'lwóigica', 'lxóigica', 'lyóigica', 'lzóigica', 'láóigica', 'lâóigica', 'làóigica', 'lãóigica', 'léóigica', 'lêóigica', 'lèóigica', 'lẽóigica', 'líóigica', 'lîóigica', 'lìóigica', 'lĩóigica', 'lóóigica', 'lôóigica', 'lõóigica', 'lòóigica', 'lúóigica', 'lûóigica', 'lùóigica', 'lũóigica', 'lçóigica', 'lóaigica', 'lóbigica', 'lócigica', 'lódigica', 'lóeigica', 'lófigica', 'lógigica', 'lóhigica', 'lóiigica', 'lójigica', 'lókigica', 'lóligica', 'lómigica', 'lónigica', 'lóoigica', 'lópigica', 'lóqigica', 'lórigica', 'lósigica', 'lótigica', 'lóuigica', 'lóvigica', 'lówigica', 'lóxigica', 'lóyigica', 'lózigica', 'lóáigica', 'lóâigica', 'lóàigica', 'lóãigica', 'lóéigica', 'lóêigica', 'lóèigica', 'lóẽigica', 'lóíigica', 'lóîigica', 'lóìigica', 'lóĩigica', 'lóóigica', 'lóôigica', 'lóõigica', 'lóòigica', 'lóúigica', 'lóûigica', 'lóùigica', 'lóũigica', 'lóçigica', 'lóiagica', 'lóibgica', 'lóicgica', 'lóidgica', 'lóiegica', 'lóifgica', 'lóiggica', 'lóihgica', 'lóiigica', 'lóijgica', 'lóikgica', 'lóilgica', 'lóimgica', 'lóingica', 'lóiogica', 'lóipgica', 'lóiqgica', 'lóirgica', 'lóisgica', 'lóitgica', 'lóiugica', 'lóivgica', 'lóiwgica', 'lóixgica', 'lóiygica', 'lóizgica', 'lóiágica', 'lóiâgica', 'lóiàgica', 'lóiãgica', 'lóiégica', 'lóiêgica', 'lóiègica', 'lóiẽgica', 'lóiígica', 'lóiîgica', 'lóiìgica', 'lóiĩgica', 'lóiógica', 'lóiôgica', 'lóiõgica', 'lóiògica', 'lóiúgica', 'lóiûgica', 'lóiùgica', 'lóiũgica', 'lóiçgica', 'lóigaica', 'lóigbica', 'lóigcica', 'lóigdica', 'lóigeica', 'lóigfica', 'lóiggica', 'lóighica', 'lóigiica', 'lóigjica', 'lóigkica', 'lóiglica', 'lóigmica', 'lóignica', 'lóigoica', 'lóigpica', 'lóigqica', 'lóigrica', 'lóigsica', 'lóigtica', 'lóiguica', 'lóigvica', 'lóigwica', 'lóigxica', 'lóigyica', 'lóigzica', 'lóigáica', 'lóigâica', 'lóigàica', 'lóigãica', 'lóigéica', 'lóigêica', 'lóigèica', 'lóigẽica', 'lóigíica', 'lóigîica', 'lóigìica', 'lóigĩica', 'lóigóica', 'lóigôica', 'lóigõica', 'lóigòica', 'lóigúica', 'lóigûica', 'lóigùica', 'lóigũica', 'lóigçica', 'lóigiaca', 'lóigibca', 'lóigicca', 'lóigidca', 'lóigieca', 'lóigifca', 'lóigigca', 'lóigihca', 'lóigiica', 'lóigijca', 'lóigikca', 'lóigilca', 'lóigimca', 'lóiginca', 'lóigioca', 'lóigipca', 'lóigiqca', 'lóigirca', 'lóigisca', 'lóigitca', 'lóigiuca', 'lóigivca', 'lóigiwca', 'lóigixca', 'lóigiyca', 'lóigizca', 'lóigiáca', 'lóigiâca', 'lóigiàca', 'lóigiãca', 'lóigiéca', 'lóigiêca', 'lóigièca', 'lóigiẽca', 'lóigiíca', 'lóigiîca', 'lóigiìca', 'lóigiĩca', 'lóigióca', 'lóigiôca', 'lóigiõca', 'lóigiòca', 'lóigiúca', 'lóigiûca', 'lóigiùca', 'lóigiũca', 'lóigiçca', 'lóigicaa', 'lóigicba', 'lóigicca', 'lóigicda', 'lóigicea', 'lóigicfa', 'lóigicga', 'lóigicha', 'lóigicia', 'lóigicja', 'lóigicka', 'lóigicla', 'lóigicma', 'lóigicna', 'lóigicoa', 'lóigicpa', 'lóigicqa', 'lóigicra', 'lóigicsa', 'lóigicta', 'lóigicua', 'lóigicva', 'lóigicwa', 'lóigicxa', 'lóigicya', 'lóigicza', 'lóigicáa', 'lóigicâa', 'lóigicàa', 'lóigicãa', 'lóigicéa', 'lóigicêa', 'lóigicèa', 'lóigicẽa', 'lóigicía', 'lóigicîa', 'lóigicìa', 'lóigicĩa', 'lóigicóa', 'lóigicôa', 'lóigicõa', 'lóigicòa', 'lóigicúa', 'lóigicûa', 'lóigicùa', 'lóigicũa', 'lóigicça', 'lóigicaa', 'lóigicab', 'lóigicac', 'lóigicad', 'lóigicae', 'lóigicaf', 'lóigicag', 'lóigicah', 'lóigicai', 'lóigicaj', 'lóigicak', 'lóigical', 'lóigicam', 'lóigican', 'lóigicao', 'lóigicap', 'lóigicaq', 'lóigicar', 'lóigicas', 'lóigicat', 'lóigicau', 'lóigicav', 'lóigicaw', 'lóigicax', 'lóigicay', 'lóigicaz', 'lóigicaá', 'lóigicaâ', 'lóigicaà', 'lóigicaã', 'lóigicaé', 'lóigicaê', 'lóigicaè', 'lóigicaẽ', 'lóigicaí', 'lóigicaî', 'lóigicaì', 'lóigicaĩ', 'lóigicaó', 'lóigicaô', 'lóigicaõ', 'lóigicaò', 'lóigicaú', 'lóigicaû', 'lóigicaù', 'lóigicaũ', 'lóigicaç', 'óigica', 'ligica', 'lógica', 'lóiica', 'lóigca', 'lóigia', 'lóigic', 'lóigica']\n"
          ]
        }
      ]
    },
    {
      "cell_type": "code",
      "source": [
        "avaliador(lista_teste)"
      ],
      "metadata": {
        "colab": {
          "base_uri": "https://localhost:8080/"
        },
        "id": "VRZgy0Q_XA6B",
        "outputId": "bc11e7d2-e1f6-4934-ea50-daccff7a5d8e"
      },
      "execution_count": 29,
      "outputs": [
        {
          "output_type": "stream",
          "name": "stdout",
          "text": [
            "podemos\n",
            "já\n",
            "nosso\n",
            "são\n",
            "dos\n",
            "imagem\n",
            "sua\n",
            "também\n",
            "essa\n",
            "vamos\n",
            "sobre\n",
            "java\n",
            "das\n",
            "agora\n",
            "mesmo\n",
            "seja\n",
            "caso\n",
            "exemplo\n",
            "tem\n",
            "usuário\n",
            "dados\n",
            "nossa\n",
            "além\n",
            "design\n",
            "trabalho\n",
            "valor\n",
            "precisamos\n",
            "conteúdo\n",
            "todos\n",
            "sempre\n",
            "qual\n",
            "ela\n",
            "só\n",
            "projeto\n",
            "sem\n",
            "dia\n",
            "podemos\n",
            "esse\n",
            "nosso\n",
            "dos\n",
            "sua\n",
            "também\n",
            "ele\n",
            "fazer\n",
            "temos\n",
            "sobre\n",
            "agora\n",
            "está\n",
            "nos\n",
            "seja\n",
            "então\n",
            "criar\n",
            "exemplo\n",
            "tem\n",
            "python\n",
            "assim\n",
            "ter\n",
            "trabalho\n",
            "foi\n",
            "apenas\n",
            "valor\n",
            "será\n",
            "precisamos\n",
            "ainda\n",
            "conteúdo\n",
            "eu\n",
            "tempo\n",
            "ela\n",
            "só\n",
            "projeto\n",
            "site\n",
            "sem\n",
            "só\n",
            "corretor\n",
            "gato\n",
            "relógio\n",
            "ritmo\n",
            "77\n",
            "186\n",
            "41.4% de 186 palavras\n"
          ]
        }
      ]
    },
    {
      "cell_type": "code",
      "source": [
        "def insere_letras(fatias):\n",
        "    novas_palavras = []\n",
        "    letras = 'abcdefghijklmnopqrstuvwxyzáâàãéêèẽíîìĩóôõòúûùũç'\n",
        "    for E, D in fatias:\n",
        "        for letra in letras:\n",
        "            novas_palavras.append(E + letra + D)\n",
        "    return novas_palavras\n",
        "\n",
        "def deletando_letras(fatias):\n",
        "  novas_palavras = []\n",
        "  for E, D in fatias:\n",
        "    novas_palavras.append(E + D [1:])\n",
        "  return novas_palavras\n",
        "\n",
        "def troca_letras(fatias):\n",
        "    novas_palavras = []\n",
        "    letras = 'abcdefghijklmnopqrstuvwxyzáâàãéêèẽíîìĩóôõòúûùũç'\n",
        "    for E, D in fatias:\n",
        "        for letra in letras:\n",
        "            novas_palavras.append(E + letra + D[1:])\n",
        "    return novas_palavras\n",
        "\n",
        "def inverte_letras(fatias):\n",
        "  novas_palavras = []\n",
        "  for E, D in fatias:\n",
        "    if len(D) > 1:\n",
        "      novas_palavras.append(E + D[1] + D[0] + D[2:])\n",
        "  return novas_palavras\n",
        "\n",
        "def gerador_palavras(palavra):\n",
        "    fatias = []\n",
        "    for i in range(len(palavra)+1):\n",
        "        fatias.append((palavra[:i],palavra[i:]))\n",
        "    palavras_geradas = insere_letras(fatias)\n",
        "    palavras_geradas += deletando_letras(fatias)\n",
        "    palavras_geradas += troca_letras(fatias)\n",
        "    palavras_geradas += inverte_letras(fatias)\n",
        "    return palavras_geradas\n",
        "\n",
        "palavra_exemplo = \"lgóica\"\n",
        "palavras_geradas = gerador_palavras(palavra_exemplo)\n",
        "\n",
        "print(palavras_geradas)"
      ],
      "metadata": {
        "colab": {
          "base_uri": "https://localhost:8080/"
        },
        "id": "mofV_e1IXgDM",
        "outputId": "60736238-4148-4709-ef31-b88f59bf40bf"
      },
      "execution_count": 32,
      "outputs": [
        {
          "output_type": "stream",
          "name": "stdout",
          "text": [
            "['algóica', 'blgóica', 'clgóica', 'dlgóica', 'elgóica', 'flgóica', 'glgóica', 'hlgóica', 'ilgóica', 'jlgóica', 'klgóica', 'llgóica', 'mlgóica', 'nlgóica', 'olgóica', 'plgóica', 'qlgóica', 'rlgóica', 'slgóica', 'tlgóica', 'ulgóica', 'vlgóica', 'wlgóica', 'xlgóica', 'ylgóica', 'zlgóica', 'álgóica', 'âlgóica', 'àlgóica', 'ãlgóica', 'élgóica', 'êlgóica', 'èlgóica', 'ẽlgóica', 'ílgóica', 'îlgóica', 'ìlgóica', 'ĩlgóica', 'ólgóica', 'ôlgóica', 'õlgóica', 'òlgóica', 'úlgóica', 'ûlgóica', 'ùlgóica', 'ũlgóica', 'çlgóica', 'lagóica', 'lbgóica', 'lcgóica', 'ldgóica', 'legóica', 'lfgóica', 'lggóica', 'lhgóica', 'ligóica', 'ljgóica', 'lkgóica', 'llgóica', 'lmgóica', 'lngóica', 'logóica', 'lpgóica', 'lqgóica', 'lrgóica', 'lsgóica', 'ltgóica', 'lugóica', 'lvgóica', 'lwgóica', 'lxgóica', 'lygóica', 'lzgóica', 'lágóica', 'lâgóica', 'làgóica', 'lãgóica', 'légóica', 'lêgóica', 'lègóica', 'lẽgóica', 'lígóica', 'lîgóica', 'lìgóica', 'lĩgóica', 'lógóica', 'lôgóica', 'lõgóica', 'lògóica', 'lúgóica', 'lûgóica', 'lùgóica', 'lũgóica', 'lçgóica', 'lgaóica', 'lgbóica', 'lgcóica', 'lgdóica', 'lgeóica', 'lgfóica', 'lggóica', 'lghóica', 'lgióica', 'lgjóica', 'lgkóica', 'lglóica', 'lgmóica', 'lgnóica', 'lgoóica', 'lgpóica', 'lgqóica', 'lgróica', 'lgsóica', 'lgtóica', 'lguóica', 'lgvóica', 'lgwóica', 'lgxóica', 'lgyóica', 'lgzóica', 'lgáóica', 'lgâóica', 'lgàóica', 'lgãóica', 'lgéóica', 'lgêóica', 'lgèóica', 'lgẽóica', 'lgíóica', 'lgîóica', 'lgìóica', 'lgĩóica', 'lgóóica', 'lgôóica', 'lgõóica', 'lgòóica', 'lgúóica', 'lgûóica', 'lgùóica', 'lgũóica', 'lgçóica', 'lgóaica', 'lgóbica', 'lgócica', 'lgódica', 'lgóeica', 'lgófica', 'lgógica', 'lgóhica', 'lgóiica', 'lgójica', 'lgókica', 'lgólica', 'lgómica', 'lgónica', 'lgóoica', 'lgópica', 'lgóqica', 'lgórica', 'lgósica', 'lgótica', 'lgóuica', 'lgóvica', 'lgówica', 'lgóxica', 'lgóyica', 'lgózica', 'lgóáica', 'lgóâica', 'lgóàica', 'lgóãica', 'lgóéica', 'lgóêica', 'lgóèica', 'lgóẽica', 'lgóíica', 'lgóîica', 'lgóìica', 'lgóĩica', 'lgóóica', 'lgóôica', 'lgóõica', 'lgóòica', 'lgóúica', 'lgóûica', 'lgóùica', 'lgóũica', 'lgóçica', 'lgóiaca', 'lgóibca', 'lgóicca', 'lgóidca', 'lgóieca', 'lgóifca', 'lgóigca', 'lgóihca', 'lgóiica', 'lgóijca', 'lgóikca', 'lgóilca', 'lgóimca', 'lgóinca', 'lgóioca', 'lgóipca', 'lgóiqca', 'lgóirca', 'lgóisca', 'lgóitca', 'lgóiuca', 'lgóivca', 'lgóiwca', 'lgóixca', 'lgóiyca', 'lgóizca', 'lgóiáca', 'lgóiâca', 'lgóiàca', 'lgóiãca', 'lgóiéca', 'lgóiêca', 'lgóièca', 'lgóiẽca', 'lgóiíca', 'lgóiîca', 'lgóiìca', 'lgóiĩca', 'lgóióca', 'lgóiôca', 'lgóiõca', 'lgóiòca', 'lgóiúca', 'lgóiûca', 'lgóiùca', 'lgóiũca', 'lgóiçca', 'lgóicaa', 'lgóicba', 'lgóicca', 'lgóicda', 'lgóicea', 'lgóicfa', 'lgóicga', 'lgóicha', 'lgóicia', 'lgóicja', 'lgóicka', 'lgóicla', 'lgóicma', 'lgóicna', 'lgóicoa', 'lgóicpa', 'lgóicqa', 'lgóicra', 'lgóicsa', 'lgóicta', 'lgóicua', 'lgóicva', 'lgóicwa', 'lgóicxa', 'lgóicya', 'lgóicza', 'lgóicáa', 'lgóicâa', 'lgóicàa', 'lgóicãa', 'lgóicéa', 'lgóicêa', 'lgóicèa', 'lgóicẽa', 'lgóicía', 'lgóicîa', 'lgóicìa', 'lgóicĩa', 'lgóicóa', 'lgóicôa', 'lgóicõa', 'lgóicòa', 'lgóicúa', 'lgóicûa', 'lgóicùa', 'lgóicũa', 'lgóicça', 'lgóicaa', 'lgóicab', 'lgóicac', 'lgóicad', 'lgóicae', 'lgóicaf', 'lgóicag', 'lgóicah', 'lgóicai', 'lgóicaj', 'lgóicak', 'lgóical', 'lgóicam', 'lgóican', 'lgóicao', 'lgóicap', 'lgóicaq', 'lgóicar', 'lgóicas', 'lgóicat', 'lgóicau', 'lgóicav', 'lgóicaw', 'lgóicax', 'lgóicay', 'lgóicaz', 'lgóicaá', 'lgóicaâ', 'lgóicaà', 'lgóicaã', 'lgóicaé', 'lgóicaê', 'lgóicaè', 'lgóicaẽ', 'lgóicaí', 'lgóicaî', 'lgóicaì', 'lgóicaĩ', 'lgóicaó', 'lgóicaô', 'lgóicaõ', 'lgóicaò', 'lgóicaú', 'lgóicaû', 'lgóicaù', 'lgóicaũ', 'lgóicaç', 'góica', 'lóica', 'lgica', 'lgóca', 'lgóia', 'lgóic', 'lgóica', 'agóica', 'bgóica', 'cgóica', 'dgóica', 'egóica', 'fgóica', 'ggóica', 'hgóica', 'igóica', 'jgóica', 'kgóica', 'lgóica', 'mgóica', 'ngóica', 'ogóica', 'pgóica', 'qgóica', 'rgóica', 'sgóica', 'tgóica', 'ugóica', 'vgóica', 'wgóica', 'xgóica', 'ygóica', 'zgóica', 'ágóica', 'âgóica', 'àgóica', 'ãgóica', 'égóica', 'êgóica', 'ègóica', 'ẽgóica', 'ígóica', 'îgóica', 'ìgóica', 'ĩgóica', 'ógóica', 'ôgóica', 'õgóica', 'ògóica', 'úgóica', 'ûgóica', 'ùgóica', 'ũgóica', 'çgóica', 'laóica', 'lbóica', 'lcóica', 'ldóica', 'leóica', 'lfóica', 'lgóica', 'lhóica', 'lióica', 'ljóica', 'lkóica', 'llóica', 'lmóica', 'lnóica', 'loóica', 'lpóica', 'lqóica', 'lróica', 'lsóica', 'ltóica', 'luóica', 'lvóica', 'lwóica', 'lxóica', 'lyóica', 'lzóica', 'láóica', 'lâóica', 'làóica', 'lãóica', 'léóica', 'lêóica', 'lèóica', 'lẽóica', 'líóica', 'lîóica', 'lìóica', 'lĩóica', 'lóóica', 'lôóica', 'lõóica', 'lòóica', 'lúóica', 'lûóica', 'lùóica', 'lũóica', 'lçóica', 'lgaica', 'lgbica', 'lgcica', 'lgdica', 'lgeica', 'lgfica', 'lggica', 'lghica', 'lgiica', 'lgjica', 'lgkica', 'lglica', 'lgmica', 'lgnica', 'lgoica', 'lgpica', 'lgqica', 'lgrica', 'lgsica', 'lgtica', 'lguica', 'lgvica', 'lgwica', 'lgxica', 'lgyica', 'lgzica', 'lgáica', 'lgâica', 'lgàica', 'lgãica', 'lgéica', 'lgêica', 'lgèica', 'lgẽica', 'lgíica', 'lgîica', 'lgìica', 'lgĩica', 'lgóica', 'lgôica', 'lgõica', 'lgòica', 'lgúica', 'lgûica', 'lgùica', 'lgũica', 'lgçica', 'lgóaca', 'lgóbca', 'lgócca', 'lgódca', 'lgóeca', 'lgófca', 'lgógca', 'lgóhca', 'lgóica', 'lgójca', 'lgókca', 'lgólca', 'lgómca', 'lgónca', 'lgóoca', 'lgópca', 'lgóqca', 'lgórca', 'lgósca', 'lgótca', 'lgóuca', 'lgóvca', 'lgówca', 'lgóxca', 'lgóyca', 'lgózca', 'lgóáca', 'lgóâca', 'lgóàca', 'lgóãca', 'lgóéca', 'lgóêca', 'lgóèca', 'lgóẽca', 'lgóíca', 'lgóîca', 'lgóìca', 'lgóĩca', 'lgóóca', 'lgóôca', 'lgóõca', 'lgóòca', 'lgóúca', 'lgóûca', 'lgóùca', 'lgóũca', 'lgóçca', 'lgóiaa', 'lgóiba', 'lgóica', 'lgóida', 'lgóiea', 'lgóifa', 'lgóiga', 'lgóiha', 'lgóiia', 'lgóija', 'lgóika', 'lgóila', 'lgóima', 'lgóina', 'lgóioa', 'lgóipa', 'lgóiqa', 'lgóira', 'lgóisa', 'lgóita', 'lgóiua', 'lgóiva', 'lgóiwa', 'lgóixa', 'lgóiya', 'lgóiza', 'lgóiáa', 'lgóiâa', 'lgóiàa', 'lgóiãa', 'lgóiéa', 'lgóiêa', 'lgóièa', 'lgóiẽa', 'lgóiía', 'lgóiîa', 'lgóiìa', 'lgóiĩa', 'lgóióa', 'lgóiôa', 'lgóiõa', 'lgóiòa', 'lgóiúa', 'lgóiûa', 'lgóiùa', 'lgóiũa', 'lgóiça', 'lgóica', 'lgóicb', 'lgóicc', 'lgóicd', 'lgóice', 'lgóicf', 'lgóicg', 'lgóich', 'lgóici', 'lgóicj', 'lgóick', 'lgóicl', 'lgóicm', 'lgóicn', 'lgóico', 'lgóicp', 'lgóicq', 'lgóicr', 'lgóics', 'lgóict', 'lgóicu', 'lgóicv', 'lgóicw', 'lgóicx', 'lgóicy', 'lgóicz', 'lgóicá', 'lgóicâ', 'lgóicà', 'lgóicã', 'lgóicé', 'lgóicê', 'lgóicè', 'lgóicẽ', 'lgóicí', 'lgóicî', 'lgóicì', 'lgóicĩ', 'lgóicó', 'lgóicô', 'lgóicõ', 'lgóicò', 'lgóicú', 'lgóicû', 'lgóicù', 'lgóicũ', 'lgóicç', 'lgóicaa', 'lgóicab', 'lgóicac', 'lgóicad', 'lgóicae', 'lgóicaf', 'lgóicag', 'lgóicah', 'lgóicai', 'lgóicaj', 'lgóicak', 'lgóical', 'lgóicam', 'lgóican', 'lgóicao', 'lgóicap', 'lgóicaq', 'lgóicar', 'lgóicas', 'lgóicat', 'lgóicau', 'lgóicav', 'lgóicaw', 'lgóicax', 'lgóicay', 'lgóicaz', 'lgóicaá', 'lgóicaâ', 'lgóicaà', 'lgóicaã', 'lgóicaé', 'lgóicaê', 'lgóicaè', 'lgóicaẽ', 'lgóicaí', 'lgóicaî', 'lgóicaì', 'lgóicaĩ', 'lgóicaó', 'lgóicaô', 'lgóicaõ', 'lgóicaò', 'lgóicaú', 'lgóicaû', 'lgóicaù', 'lgóicaũ', 'lgóicaç', 'glóica', 'lógica', 'lgióca', 'lgócia', 'lgóiac']\n"
          ]
        }
      ]
    },
    {
      "cell_type": "code",
      "source": [
        "def avaliador(testes, vocabulario):\n",
        "    numero_palavras = len(testes)\n",
        "    acertou = 0\n",
        "    desconhecida = 0\n",
        "    for correta, errada in testes:\n",
        "        palavra_corrigida = corretor(errada)\n",
        "        if palavra_corrigida == correta:\n",
        "            print(correta)\n",
        "            acertou += 1\n",
        "        else:\n",
        "          desconhecida += (correta not in vocabulario) \n",
        "    print(acertou)\n",
        "    print(numero_palavras)\n",
        "    taxa_acerto = round(acertou*100/numero_palavras, 2)\n",
        "    tx_palavras_desconhecidas = round(desconhecida * 100/numero_palavras, 2)\n",
        "    print(f\"{taxa_acerto}% de {numero_palavras} palavras, desconhecida é {tx_palavras_desconhecidas}%\")\n",
        "\n",
        "vocabulario = set(lista_normalizada)\n",
        "avaliador(lista_teste, vocabulario)"
      ],
      "metadata": {
        "colab": {
          "base_uri": "https://localhost:8080/"
        },
        "id": "5FkTqRGMbsQ2",
        "outputId": "ea253bc8-0f93-4d18-b084-c1ead3218b6b"
      },
      "execution_count": 33,
      "outputs": [
        {
          "output_type": "stream",
          "name": "stdout",
          "text": [
            "podemos\n",
            "esse\n",
            "já\n",
            "nosso\n",
            "são\n",
            "dos\n",
            "muito\n",
            "imagem\n",
            "sua\n",
            "também\n",
            "fazer\n",
            "temos\n",
            "essa\n",
            "quando\n",
            "vamos\n",
            "sobre\n",
            "java\n",
            "das\n",
            "agora\n",
            "está\n",
            "cada\n",
            "mesmo\n",
            "forma\n",
            "seja\n",
            "então\n",
            "criar\n",
            "código\n",
            "caso\n",
            "exemplo\n",
            "tem\n",
            "usuário\n",
            "dados\n",
            "python\n",
            "nossa\n",
            "além\n",
            "assim\n",
            "até\n",
            "design\n",
            "trabalho\n",
            "foi\n",
            "apenas\n",
            "empresa\n",
            "valor\n",
            "entre\n",
            "método\n",
            "precisamos\n",
            "ainda\n",
            "vai\n",
            "conteúdo\n",
            "seus\n",
            "todos\n",
            "tempo\n",
            "sempre\n",
            "qual\n",
            "ela\n",
            "só\n",
            "utilizar\n",
            "projeto\n",
            "site\n",
            "sem\n",
            "pelo\n",
            "alura\n",
            "dia\n",
            "tudo\n",
            "podemos\n",
            "esse\n",
            "nosso\n",
            "são\n",
            "dos\n",
            "muito\n",
            "imagem\n",
            "sua\n",
            "também\n",
            "ele\n",
            "fazer\n",
            "temos\n",
            "essa\n",
            "quando\n",
            "vamos\n",
            "sobre\n",
            "java\n",
            "agora\n",
            "está\n",
            "mesmo\n",
            "nos\n",
            "forma\n",
            "seja\n",
            "então\n",
            "criar\n",
            "código\n",
            "caso\n",
            "exemplo\n",
            "tem\n",
            "usuário\n",
            "dados\n",
            "python\n",
            "além\n",
            "assim\n",
            "ter\n",
            "até\n",
            "bem\n",
            "design\n",
            "trabalho\n",
            "foi\n",
            "apenas\n",
            "empresa\n",
            "valor\n",
            "será\n",
            "entre\n",
            "método\n",
            "precisamos\n",
            "ainda\n",
            "vai\n",
            "conteúdo\n",
            "seus\n",
            "todos\n",
            "tempo\n",
            "sempre\n",
            "qual\n",
            "ela\n",
            "só\n",
            "utilizar\n",
            "projeto\n",
            "site\n",
            "sem\n",
            "pelo\n",
            "alura\n",
            "dia\n",
            "tudo\n",
            "só\n",
            "só\n",
            "corretor\n",
            "tática\n",
            "linux\n",
            "gato\n",
            "relógio\n",
            "gratuito\n",
            "ritmo\n",
            "seja\n",
            "esteja\n",
            "cérebro\n",
            "141\n",
            "186\n",
            "75.81% de 186 palavras, desconhecida é 8.06%\n"
          ]
        }
      ]
    },
    {
      "cell_type": "code",
      "source": [
        "palavra = \"lóiigica\"\n",
        "def gerador_turbinado(palavras_geradas):\n",
        "  novas_palavras = []\n",
        "  for palavra in palavras_geradas:\n",
        "    novas_palavras += gerador_palavras(palavra)\n",
        "  return novas_palavras\n",
        "\n",
        "palavras_g = gerador_turbinado(gerador_palavras(palavra))\n",
        "\"lógica\" in palavras_g"
      ],
      "metadata": {
        "colab": {
          "base_uri": "https://localhost:8080/"
        },
        "id": "c7GwaVVQoEul",
        "outputId": "0fcbcba3-6ddc-4135-a24e-ad97d2ea3290"
      },
      "execution_count": 34,
      "outputs": [
        {
          "output_type": "execute_result",
          "data": {
            "text/plain": [
              "True"
            ]
          },
          "metadata": {},
          "execution_count": 34
        }
      ]
    },
    {
      "cell_type": "code",
      "source": [
        "len(palavras_g)\n"
      ],
      "metadata": {
        "colab": {
          "base_uri": "https://localhost:8080/"
        },
        "id": "XXkZ3pmTpNU_",
        "outputId": "77e563a7-396e-44c6-ee64-37456bb6b4c0"
      },
      "execution_count": 35,
      "outputs": [
        {
          "output_type": "execute_result",
          "data": {
            "text/plain": [
              "787396"
            ]
          },
          "metadata": {},
          "execution_count": 35
        }
      ]
    },
    {
      "cell_type": "code",
      "source": [
        "def novo_corretor(palavra):\n",
        "    palavras_geradas = gerador_palavras(palavra)\n",
        "    palavras_turbinadas = gerador_turbinado(palavras_geradas)\n",
        "    todas_palavras = set(palavras_geradas + palavras_turbinadas)\n",
        "    candidatos = [palavra]\n",
        "    for palavra in todas_palavras:\n",
        "      if palavra in vocabulario:\n",
        "        candidatos.append(palavra)\n",
        "    palavra_correta = max(candidatos, key=probabilidade)\n",
        "    return palavra_correta\n",
        "\n",
        "novo_corretor(\"lígicaaa\")"
      ],
      "metadata": {
        "colab": {
          "base_uri": "https://localhost:8080/",
          "height": 53
        },
        "id": "N-KWFbpGpSta",
        "outputId": "435a0c34-8ef7-400f-9cf1-0e69bab3a3b6"
      },
      "execution_count": 44,
      "outputs": [
        {
          "output_type": "stream",
          "name": "stdout",
          "text": [
            "['lígicaaa']\n"
          ]
        },
        {
          "output_type": "execute_result",
          "data": {
            "text/plain": [
              "'lígicaaa'"
            ],
            "application/vnd.google.colaboratory.intrinsic+json": {
              "type": "string"
            }
          },
          "metadata": {},
          "execution_count": 44
        }
      ]
    },
    {
      "cell_type": "code",
      "source": [
        "def avaliador(testes, vocabulario):\n",
        "    numero_palavras = len(testes)\n",
        "    acertou = 0\n",
        "    desconhecida = 0\n",
        "    for correta, errada in testes:\n",
        "        palavra_corrigida = novo_corretor(errada)\n",
        "        desconhecida += (correta not in vocabulario) \n",
        "        if palavra_corrigida == correta:\n",
        "            acertou += 1\n",
        "        else:\n",
        "          print(errada + \"-\" + corretor(errada) + \"-\" + palavra_corrigida)\n",
        "    taxa_acerto = round(acertou*100/numero_palavras, 2)\n",
        "    tx_palavras_desconhecidas = round(desconhecida * 100/numero_palavras, 2)\n",
        "    print(f\"{taxa_acerto}% de {numero_palavras} palavras, desconhecida é {tx_palavras_desconhecidas}%\")\n",
        "\n",
        "vocabulario = set(lista_normalizada)\n",
        "avaliador(lista_teste, vocabulario)"
      ],
      "metadata": {
        "colab": {
          "base_uri": "https://localhost:8080/"
        },
        "id": "QF94iuPRrLR8",
        "outputId": "d57f698d-23ea-4a34-bf72-ecb70e6e1172"
      },
      "execution_count": 49,
      "outputs": [
        {
          "output_type": "stream",
          "name": "stdout",
          "text": [
            "['pyodemos', 'podermos', 'perdemos', 'pudemos', 'podemos']\n",
            "['esje', 'erre', 'esta', 'deste', 'hoje', 'neste', 'seja', 'esse', 'nesse', 'desse', 'este', 'sede', 'sete', 'desde', 'use', 'está', 'ee', 'ele', 'estes', 'teste', 'essa', 'tese', 'edge', 'deseje', 'esses', 'reste', 'se', 'esc', 'see']\n",
            "esje-esse-se\n",
            "['jrá', 'jsf', 'rh', 'vá', 'joi', 'jpg', 'dará', 'olá', 'lá', 'url', 'j', 'dá', 'virá', 'terá', 'js', 'cá', 'pra', 'br', 'erp', 'rá', 'cro', 'era', 'já', 'jpa', 'pr', 'ar', 'arc', 'irá', 'á', 'jam', 'ira', 'uri', 'pro', 'src', 'rm', 'jar', 'are', 'pré', 'r', 'vr', 'má', 'rt', 'há', 'verá', 'ir', 'será', 'ora', 'jan', 'tá', 'fará', 'trás']\n",
            "['nossov', 'nosso', 'nossas', 'nossos', 'posso', 'nisso', 'nossa']\n",
            "['sãêo', 'são', 'sudo', 'sao', 'tão', 'sono', 'seo', 'dão', 'mão', 'so', 'não', 'seco', 'vão', 'sido', 'smo']\n",
            "sãêo-são-não\n",
            "['dosa', 'dura', 'ios', 'dono', 'dsa', 'dosar', 'dois', 'cost', 'dom', 'joga', 'mesa', 'doses', 'toca', 'moda', 'bora', 'adota', 'visa', 'nova', 'rota', 'da', 'gosta', 'doze', 'los', 'nasa', 'mora', 'dessa', 'sopa', 'rsa', 'rola', 'desk', 'loja', 'dica', 'dose', 'dada', 'ora', 'adora', 'soma', 'data', 'nos', 'pesa', 'dera', 'rosa', 'usa', 'toda', 'dos', 'poxa', 'essa', 'dns', 'dia', 'desta', 'posta', 'cola', 'duas', 'boa', 'voga', 'opa', 'nossa', 'hora', 'os', 'host', 'lousa', 'dst', 'roda', 'dias', 'fora', 'possa', 'das', 'bola', 'aos', 'do', 'tona', 'dita', 'nota', 'dor', 'bona', 'zona', 'coisa', 'dela', 'diga', 'toma', 'boas', 'coca', 'post', 'casa', 'deva', 'toa']\n",
            "dosa-dos-do\n",
            "['muifo', 'muito', 'mundo', 'meio', 'ruido', 'muita', 'muitos', 'guido', 'mudo']\n",
            "['iômagem', 'imagem', 'image', 'images']\n",
            "['ósua', 'dsa', 'sul', 'esta', 'água', 'lua', 'rua', 'usual', 'rsa', 'suas', 'sum', 'usa', 'essa', 'suba', 'suar', 'suma', 'spa', 'sua', 'eua', 'sub', 'atua']\n",
            "['tambéùm', 'também', 'tambem']\n",
            "['eme', 'am', 'ide', 'um', 'em', 'deve', 'use', 'pede', 'sms', 'edu', 'ed', 'mb', 'meu', 'temo', 'end', 'some', 'põe', 'erre', 'bem', 'ee', 'tem', 'me', 'ele', 'cem', 'te', 'time', 'eles', 'tese', 'the', 'eu', 'veem', 'vem', 'epa', 'ela', 'edge', 'home', 'dele', 'imc', 'amp', 'kde', 'ie', 'xml', 'ep', 'bmp', 'exame', 'leve', 'memes', 'teve', 'npe', 'esse', 'eis', 'erp', 'gere', 'rems', 'era', 'pele', 'eua', 'theme', 'tema', 'ead', 'rem', 'este', 'ce', 'nele', 'sede', 'neve', 'name', 'rm', 'are', 'ex', 'de', 'vm', 'gae', 'sete', 'nome', 'mexe', 'pmes', 'má', 'exr', 'nem', 'se', 'game', 'e', 'uma', 'rede', 'sem', 'lhe', 'etc', 'que', 'esc', 'mede', 'see', 'tome', 'aem', 'cm', 'smo', 'vue', 'mm']\n",
            "eme-em-de\n",
            "['èazer', 'lazer', 'saber', 'bater', 'caber', 'azar', 'trazer', 'layer', 'fizer', 'valer', 'fazem', 'haver', 'fazer', 'dizer', 'prazer']\n",
            "['temfs', 'termos', 'temo', 'tem', 'memes', 'rems', 'vemos', 'tema', 'times', 'tempo', 'temos', 'telas', 'temas', 'demos', 'tempos', 'lemos', 'tiffs']\n",
            "['eàssa', 'esta', 'esse', 'dessa', 'passa', 'essa', 'nossa', 'possa', 'nessa', 'essas', 'massa']\n",
            "eàssa-essa-esse\n",
            "['quaôdo', 'quadro', 'quatro', 'quarto', 'quanto', 'quando']\n",
            "['vamvos', 'ramos', 'vemos', 'campos', 'salvos', 'vamo', 'vazios', 'vivos', 'vamos', 'íamos', 'damos', 'ambos', 'vimos']\n",
            "['hsobre', 'sobre', 'cobre']\n",
            "['sjava', 'suave', 'tava', 'sala', 'usava', 'javac', 'java', 'salva', 'selva', 'silva', 'saia', 'estava', 'sirva']\n",
            "['daõs', 'dsa', 'mais', 'dois', 'bars', 'caos', 'dado', 'date', 'da', 'sass', 'dan', 'as', 'dali', 'mas', 'dar', 'damos', 'dada', 'maps', 'data', 'gabs', 'dará', 'dos', 'dark', 'dns', 'pais', 'país', 'duas', 'ads', 'tais', 'pass', 'dias', 'das', 'divs', 'aos', 'tags', 'dados', 'daí', 'tabs', 'devs', 'paas', 'datas', 'nas']\n",
            "daõs-das-da\n",
            "['agorah', 'afora', 'adora', 'agora']\n",
            "['eòtá', 'esta', 'este', 'tá', 'está', 'eita', 'etc']\n",
            "['céda', 'fada', 'cta', 'moda', 'cama', 'da', 'cena', 'cara', 'nada', 'cdo', 'cima', 'dada', 'onda', 'code', 'vida', 'nda', 'cuida', 'cada', 'tida', 'toda', 'cpa', 'cria', 'anda', 'média', 'cola', 'lida', 'muda', 'cauda', 'roda', 'cedo', 'capa', 'caia', 'coca', 'cuja', 'casa']\n",
            "céda-cada-da\n",
            "['zmesmo', 'mesmos', 'mesma', 'mesmo']\n",
            "['noâ', 'n', 'cor', 'ios', 'no', 'ao', 'nos', 'to', 'joi', 'for', 'num', 'none', 'of', 'sol', 'on', 'sou', 'new', 'so', 'dos', 'dom', 'ron', 'anos', 'ou', 'som', 'nov', 'na', 'foi', 'toy', 'não', 'vou', 'nova', 'bom', 'nós', 'boa', 'o', 'com', 'npe', 'os', 'mon', 'novo', 'nf', 'log', 'nove', 'los', 'ano', 'voo', 'row', 'ong', 'roi', 'aos', 'do', 'nota', 'nps', 'dor', 'ok', 'nome', 'iot', 'nem', 'go', 'onu', 'ns', 'tom', 'note', 'now', 'sob', 'top', 'voz', 'né', 'por', 'nas', 'toa', 'nda']\n",
            "noâ-no-o\n",
            "['fobma', 'cobra', 'format', 'folha', 'fobias', 'formal', 'forma', 'força', 'foram', 'form', 'soma', 'fibra', 'fama', 'formas', 'figma', 'norma', 'fora', 'toma', 'obra', 'formar', 'forca']\n",
            "['sejéa', 'senha', 'veja', 'seja', 'sejam', 'selva', 'senta', 'seria', 'seca', 'seta']\n",
            "['enêão', 'menção', 'união', 'senão', 'não', 'então', 'estão', 'envio']\n",
            "enêão-então-não\n",
            "['èriar', 'arial', 'errar', 'guiar', 'brian', 'trial', 'brigar', 'adiar', 'aliar', 'arcar', 'criar', 'cria', 'criam', 'virar', 'tirar', 'variar', 'iria']\n",
            "['cóeigo', 'códigos', 'comigo', 'cheiro', 'cheio', 'código', 'codigo']\n",
            "['casío', 'cisco', 'caro', 'caí', 'case', 'cast', 'acaso', 'caos', 'casca', 'passo', 'cargo', 'custo', 'caso', 'cabo', 'carro', 'casos', 'gasto', 'campo', 'casas', 'canto', 'cases', 'casar', 'casa']\n",
            "['áexemplo', 'exemplos', 'exemplo']\n",
            "['tĩem', 'temo', 'têm', 'tem', 'cem', 'time', 'vem', 'then', 'tema', 'saem', 'usem', 'terem', 'nem', 'irem', 'sem', 'tome', 'trim', 'em', 'bem', 'te', 'the', 'veem', 'item', 'theme', 'rem', 'ter', 'tom', 'quem', 'aem']\n",
            "tĩem-tem-em\n",
            "['usuárôio', 'usuários', 'usuario', 'usuário']\n",
            "['dfados', 'lados', 'dado', 'dedos', 'dados', 'usados', 'fatos', 'damos']\n",
            "['pgthon', 'python']\n",
            "['nossah', 'nosso', 'nossas', 'possam', 'nossos', 'nossa', 'possa', 'nessa', 'nessas']\n",
            "nossah-nossa-nosso\n",
            "['alémè', 'além', 'alma']\n",
            "['asõim', 'sim', 'afim', 'assim']\n",
            "['teb', 'len', 'em', 'tv', 'tela', 'pep', 'to', 'tar', 'ed', 'mb', 'der', 'meu', 'temo', 'têm', 'web', 'bem', 'tech', 'ee', 'tem', 'me', 'ser', 'vez', 'cem', 'new', 'te', 'tvs', 'tão', 'tese', 'the', 'eu', 'tab', 'tal', 'per', 'ti', 'dei', 'vem', 'then', 'sec', 'dez', 'lib', 'toy', 'terá', 'ie', 'ep', 'test', 'set', 'tls', 'teve', 'wed', 'item', 'pen', 'dev', 'b', 'tag', 'seu', 'text', 'tcc', 'seo', 'tema', 'rem', 'ce', 'gb', 'ex', 'de', 'sub', 'tabs', 'ter', 'get', 'usb', 'nem', 'se', 'key', 'ver', 'tom', 'e', 'sem', 'cep', 'etc', 'ceo', 'sei', 'sob', 'top', 'fez', 'deu', 'ler', 'see', 'db', 'aem', 'tá', 'toa', 'lei', 'leu']\n",
            "teb-tem-de\n",
            "['atĩ', 'a', 'aba', 'utc', 'am', 'data', 'ao', 'pt', 'ante', 'tv', 'to', 'auto', 'tar', 'alt', 'ali', 'apt', 'até', 'te', 'cta', 'tab', 'tal', 'ti', 'ah', 'gato', 'bate', 'amp', 'ads', 'api', 'app', 'date', 'rate', 'adi', 'path', 'as', 'tag', 'at', 'ano', 'tato', 'lts', 'ar', 'aos', 'arc', 'ator', 'ai', 'are', 'alta', 'aí', 'alto', 'and', 'rt', 'atua', 'etc', 'adm', 'fato', 'add', 'all', 'aem', 'arte', 'tá', 'apto', 'ato']\n",
            "atĩ-até-a\n",
            "['âem', 'am', 'len', 'um', 'sum', 'em', 'pep', 'ibm', 'ed', 'der', 'meu', 'temo', 'num', 'têm', 'web', 'bem', 'ee', 'tem', 'me', 'ser', 'vez', 'cem', 'new', 'te', 'dom', 'eu', 'veem', 'per', 'dei', 'vem', 'som', 'sec', 'dez', 'bom', 'ie', 'ep', 'sim', 'set', 'wed', 'item', 'com', 'pen', 'vim', 'dev', 'rems', 'seu', 'seo', 'jam', 'tema', 'rem', 'saem', 'ce', 'rm', 'ex', 'usem', 'de', 'vm', 'ter', 'get', 'nem', 'se', 'key', 'fcm', 'ver', 'irem', 'tom', 'bam', 'e', 'quem', 'sem', 'vêm', 'cep', 'ceo', 'mim', 'sei', 'adm', 'fez', 'deu', 'fim', 'ler', 'see', 'aem', 'cm', 'lei', 'leu', 'mm']\n",
            "âem-em-de\n",
            "['desigen', 'designer', 'design']\n",
            "['trabalàho', 'trabalha', 'trabalhe', 'trabalhos', 'trabalho']\n",
            "['foo', 'cor', 'ios', 'no', 'ao', 'nos', 'off', 'fãs', 'bolo', 'zoom', 'to', 'dono', 'faço', 'joi', 'são', 'f', 'yoko', 'sao', 'for', 'of', 'ovo', 'sol', 'boot', 'font', 'on', 'sou', 'mão', 'so', 'fomos', 'dos', 'tão', 'dom', 'fixo', 'rodo', 'jogo', 'ron', 'ou', 'topo', 'som', 'nov', 'moro', 'foi', 'logo', 'toy', 'não', 'vou', 'bom', 'fio', 'boa', 'faz', 'fork', 'o', 'com', 'sono', 'tool', 'os', 'mon', 'falo', 'novo', 'log', 'fosco', 'cro', 'ifood', 'los', 'from', 'ano', 'voo', 'fora', 'row', 'modo', 'roi', 'foto', 'loop', 'fotos', 'seo', 'aos', 'do', 'vão', 'dão', 'roxo', 'fuso', 'joão', 'root', 'pro', 'fone', 'foco', 'dor', 'joio', 'fff', 'ok', 'moto', 'cdo', 'iot', 'uso', 'go', 'fcm', 'como', 'todo', 'tom', 'fiz', 'rio', 'ceo', 'now', 'fu', 'sob', 'top', 'fez', 'voz', 'fato', 'fico', 'form', 'fim', 'fã', 'focou', 'por', 'toa', 'smo', 'fui', 'fix', 'ato']\n",
            "foo-foi-o\n",
            "['apenaũ', 'pena', 'apesar', 'apenas', 'apelar']\n",
            "['empresà', 'emprega', 'empresa', 'emprego', 'empresas']\n",
            "['valíor', 'valor', 'calor', 'valer']\n",
            "['serr', 'setor', 'setar', 'servir', 'dera', 'server', 'der', 'erre', 'ser', 'user', 'per', 'zerar', 'serei', 'sair', 'seta', 'sec', 'nerd', 'seria', 'seus', 'terá', 'suar', 'seja', 'zero', 'gerir', 'mera', 'seco', 'set', 'seis', 'erp', 'gere', 'seca', 'soar', 'era', 'seu', 'pera', 'aero', 'seo', 'ferro', 'terry', 'src', 'sede', 'seres', 'sete', 'ter', 'terra', 'exr', 'serve', 'se', 'ver', 'serão', 'sem', 'gerar', 'gera', 'sei', 'verá', 'será', 'erro', 'ler', 'see', 'serem', 'fera']\n",
            "serr-ser-se\n",
            "['entke', 'ante', 'entre', 'mente', 'enter', 'este', 'envie', 'sente', 'então', 'entrei', 'gente', 'entra', 'dentre', 'tente']\n",
            "entke-entre-então\n",
            "['méqodo', 'método', 'modo', 'métodos']\n",
            "['precisamops', 'precisarmos', 'precisamos', 'precisamo', 'precisemos']\n",
            "['ainàa', 'minha', 'linha', 'linda', 'ainda', 'cinza', 'atinja', 'sinta', 'tinha', 'anda', 'alinha', 'tinta', 'vinha']\n",
            "['van', 'a', 'n', 'vh', 'am', 'ao', 'via', 'len', 'saí', 'max', 'vá', 'tar', 'sal', 'pay', 'sao', 'mar', 'rank', 'par', 'ia', 'on', 'vez', 'cyan', 'run', 'uau', 'caí', 'van', 'tab', 'tal', 'ron', 'plan', 'vem', 'ah', 'pin', 'vamo', 'na', 'vou', 'vias', 'cin', 'vir', 'bin', 'faz', 'main', 'hand', 'da', 'pen', 'lean', 'mon', 'vim', 'vmin', 'cai', 'dan', 'as', 'vai', 'tag', 'at', 'tank', 'ano', 'voo', 'baa', 'mal', 'das', 'ar', 'nano', 'vão', 'pau', 'jam', 'ead', 'map', 'vaga', 'ai', 'pai', 'viu', 'jar', 'vê', 'daí', 'aí', 'vm', 'mas', 'gae', 'vi', 'vr', 'dar', 'v', 'mac', 'in', 'and', 'paz', 'ver', 'raw', 'cain', 'bam', 'vêm', 'sai', 'voz', 'vs', 'loan', 'vw', 'vlans', 'jan', 'vmax', 'nas', 'vale', 'vue', 'bar']\n",
            "van-vai-a\n",
            "['ûconteúdo', 'conteúdo', 'contendo', 'conteúdos']\n",
            "['çeus', 'meu', 'eu', 'plus', 'seis', 'negus', 'eis', 'rems', 'seu', 'us', 'meus', 'menus', 'seus', 'eua', 'devs', 'leis', 'deu', 'leu']\n",
            "çeus-seus-seu\n",
            "['eû', 'a', 'n', 'w', 'vh', 'am', 'no', 'ao', 'xi', 'pt', 'rh', 'len', 'g', 'um', 'em', 'tv', 'pep', 'to', 'pq', 'zé', 'vá', 'às', 'edu', 'ed', 'mb', 'ip', 'der', 'meu', 'f', 'end', 'ué', 'pé', 'web', 'of', 'bem', 'bi', 'ee', 'ia', 'on', 'tem', 'me', 'ch', 'ele', 'ser', 'vez', 'cem', 'new', 'te', 'so', 'p', 'eu', 'per', 'lá', 'ti', 'dei', 'vem', 'j', 'ah', 'ou', 'i', 'epa', 'sec', 'dez', 'dá', 'ela', 'ii', 'na', 'à', 'y', 'ie', 'ep', 'js', 'dê', 'set', 'cá', 'br', 'wed', 'd', 'da', 'o', 'px', 'só', 'pen', 'os', 'id', 'eis', 'erp', 'dev', 'b', 'nf', 'rá', 'as', 'era', 'at', 'já', 'xx', 'seu', 'l', 'eua', 'é', 'z', 'x', 'us', 'pr', 'xd', 'ar', 'seo', 'do', 'sp', 'k', 'á', 'ead', 'rem', 'ux', 'cs', 'by', 'pc', 'ai', 'ce', 'rm', 'gb', 'vê', 'aí', 'ex', 'de', 'vm', 'vi', 'r', 'ter', 'vr', 'get', 'ok', 'v', 'h', 'má', 'ui', 'exr', 'in', 'nem', 'go', 's', 'se', 'cv', 'key', 'ns', 'ver', 'ps', 'rt', 'c', 'e', 'sem', 'cep', 'etc', 'há', 'ceo', 'wc', 'sei', 'fu', 'lê', 'ir', 'fez', 'vs', 'esc', 'li', 'né', 'vw', 'deu', 'ler', 'see', 'fã', 'db', 'aem', 'tá', 'py', 'si', 'cm', 'lei', 'leu', 'mm', 'hd']\n",
            "eû-e-de\n",
            "['todtos', 'textos', 'votos', 'gostos', 'pontos', 'todo', 'todas', 'modos', 'fotos', 'postos', 'tantos', 'todos']\n",
            "['temeo', 'tento', 'temo', 'tem', 'time', 'memes', 'tendo', 'termo', 'tema', 'terem', 'tempero', 'terei', 'tome', 'times', 'tempo', 'temos', 'texto', 'tese', 'terão', 'temas', 'tomei', 'teve', 'tempos', 'theme', 'vimeo', 'tenho']\n",
            "temeo-tempo-temos\n",
            "['semre', 'lembre', 'some', 'erre', 'demore', 'segue', 'secret', 'store', 'sede', 'seres', 'sete', 'serve', 'sem', 'será', 'serem', 'sente', 'seide', 'ser', 'febre', 'sempre', 'serei', 'separe', 'share', 'gere', 'sobre', 'see']\n",
            "semre-sempre-ser\n",
            "['quakl', 'quill', 'quase', 'qual', 'quais']\n",
            "['elaá', 'pela', 'nela', 'pelas', 'flat', 'nelas', 'delas', 'epa', 'lead', 'era', 'tela', 'elas', 'está', 'ele', 'eles', 'telas', 'olá', 'plan', 'lá', 'ela', 'delay', 'lean', 'eram', 'eua', 'ead', 'bela', 'play', 'dela', 'eloi']\n",
            "elaá-ela-ele\n",
            "['síó', 'sum', 'saí', 'sal', 'são', 'sms', 'sao', 'sul', 'sol', 'sou', 'ser', 'so', 'som', 'sec', 'sim', 'set', 'sdk', 'só', 'spa', 'sua', 'seu', 'seo', 'sp', 'src', 'aí', 'sub', 'sql', 's', 'se', 'sem', 'ssl', 'sai', 'sei', 'sob', 'svg', 'see', 'si', 'smo']\n",
            "síó-só-se\n",
            "['utiqizar', 'utilizam', 'utiliza', 'otimizar', 'utilizar', 'utilizará']\n",
            "['prhojeto', 'projetos', 'projeto']\n",
            "['siàe', 'lide', 'some', 'live', 'time', 'hide', 'file', 'sim', 'mire', 'mine', 'sede', 'sete', 'sabe', 'site', 'tive', 'ide', 'vire', 'seide', 'tire', 'side', 'ie', 'slide', 'pipe', 'siga', 'sites', 'se', 'cite', 'sido', 'vive', 'sei', 'see', 'vise', 'si', 'safe']\n",
            "siàe-site-se\n",
            "['seém', 'tem', 'cem', 'além', 'vem', 'seja', 'sim', 'set', 'seis', 'seu', 'seo', 'saem', 'sede', 'usem', 'sejam', 'sete', 'nem', 'sem', 'será', 'serem', 'recém', 'sum', 'em', 'bem', 'ser', 'veem', 'som', 'sec', 'seus', 'seco', 'seca', 'seta', 'spam', 'rem', 'se', 'detém', 'sei', 'see', 'aem']\n",
            "seém-sem-em\n",
            "['peln', 'len', 'pela', 'nela', 'pelas', 'open', 'pin', 'pelos', 'pele', 'pera', 'pelo', 'pega', 'nele', 'peça', 'pena', 'tela', 'pep', 'pesa', 'belo', 'pede', 'ele', 'pedi', 'pull', 'per', 'plan', 'ela', 'been', 'dele', 'help', 'pen', 'lean', 'pulo', 'dell', 'pego', 'pule', 'bela', 'peso', 'dela']\n",
            "peln-pelo-ele\n",
            "['aléra', 'além', 'altera', 'galera', 'alfa', 'afora', 'agora', 'alta', 'alerta', 'aliar', 'abra', 'ultra', 'aluna', 'adora', 'alert', 'alma', 'akira', 'clara', 'alura', 'altura']\n",
            "aléra-alura-agora\n",
            "['tdia', 'via', 'leia', 'dsa', 'diz', 'tava', 'idéia', 'ti', 'toca', 'pedia', 'da', 'adi', 'guia', 'tema', 'stdin', 'meia', 'trial', 'edita', 'div', 'taxa', 'dica', 'adiar', 'media', 'vida', 'nda', 'veia', 'trim', 'tela', 'tida', 'ideia', 'ia', 'diy', 'toda', 'etnia', 'dia', 'cria', 'média', 'edit', 'lida', 'tais', 'dias', 'tira', 'saia', 'teria', 'tona', 'dita', 'iria', 'podia', 'diga', 'toma', 'caia', 'mídia', 'toa', 'tido']\n",
            "tdia-dia-da\n",
            "['tuúo', 'to', 'auto', 'quão', 'euro', 'temo', 'sudo', 'tão', 'juno', 'puro', 'hugo', 'tato', 'fuso', 'cubo', 'yuzo', 'nulo', 'tudo', 'ouro', 'topo', 'tipo', 'duro', 'mudo', 'pulo', 'rumo', 'luxo', 'cujo', 'uso', 'todo', 'puxo', 'turno', 'tido']\n",
            "['kpodemos', 'podermos', 'pudemos', 'podemos']\n",
            "['eẽsse', 'esse', 'nesse', 'elses', 'desse', 'este', 'posse', 'disse', 'essa', 'fosse', 'esses', 'passe']\n",
            "['jé', 'a', 'n', 'jsf', 'w', 'vh', 'am', 'no', 'ao', 'xi', 'pt', 'rh', 'g', 'um', 'em', 'tv', 'to', 'pq', 'zé', 'vá', 'joi', 'às', 'ed', 'mb', 'ip', 'f', 'ué', 'jpg', 'pé', 'até', 'of', 'bi', 'ee', 'ia', 'on', 'me', 'ch', 'te', 'so', 'p', 'eu', 'lá', 'ti', 'j', 'ah', 'ou', 'i', 'dá', 'ii', 'na', 'à', 'y', 'ie', 'ep', 'js', 'dê', 'cá', 'br', 'd', 'da', 'o', 'px', 'só', 'os', 'id', 'b', 'nf', 'rá', 'as', 'at', 'já', 'xx', 'jpa', 'l', 'é', 'z', 'x', 'us', 'pr', 'xd', 'ar', 'do', 'sp', 'k', 'á', 'jam', 'ux', 'cs', 'by', 'pc', 'ai', 'ce', 'rm', 'gb', 'jar', 'vê', 'aí', 'ex', 'de', 'vm', 'pré', 'vi', 'r', 'vr', 'ok', 'v', 'h', 'má', 'ui', 'in', 'go', 's', 'se', 'cv', 'ns', 'ps', 'rt', 'c', 'e', 'há', 'wc', 'fu', 'lê', 'ir', 'vs', 'li', 'né', 'vw', 'jan', 'fã', 'db', 'tá', 'py', 'si', 'cm', 'mm', 'hd']\n",
            "jé-é-de\n",
            "['nçosso', 'nosso', 'nossos', 'posso', 'nisso', 'nossa', 'grosso']\n",
            "['sãô', 'sum', 'fãs', 'saí', 'sal', 'são', 'sms', 'sao', 'sul', 'sol', 'sou', 'mão', 'ser', 'so', 'tão', 'som', 'sec', 'não', 'sim', 'set', 'sdk', 'só', 'spa', 'sua', 'seu', 'seo', 'sp', 'vão', 'dão', 'src', 'sub', 'sql', 's', 'se', 'sem', 'ssl', 'sai', 'sei', 'sob', 'svg', 'see', 'fã', 'si', 'smo']\n",
            "sãô-são-não\n",
            "['odos', 'ios', 'modos', 'lados', 'ovo', 'ops', 'dois', 'lidos', 'fomos', 'dom', 'donos', 'mãos', 'rodo', 'medos', 'anos', 'egos', 'caos', 'los', 'ides', 'fotos', 'usos', 'rodou', 'ids', 'bobos', 'cdo', 'oras', 'olhos', 'dose', 'ondes', 'votos', 'nos', 'dos', 'dns', 'ads', 'ondas', 'jogos', 'pros', 'os', 'modo', 'das', 'dedos', 'aos', 'do', 'somos', 'dados', 'dor', 'todo', 'hds', 'novos', 'todos', 'todas']\n",
            "odos-dos-do\n",
            "['tuito', 'tento', 'tanto', 'auto', 'muito', 'dito', 'tuíta', 'feito', 'oito', 'tato', 'ruido', 'custo', 'êxito', 'tudo', 'muita', 'quit', 'curto', 'quinto', 'furto', 'texto', 'muitos', 'brito', 'tipo', 'jeito', 'justo', 'guido', 'intuito', 'tuitar', 'junto', 'turno', 'tido']\n",
            "['imõgem', 'imagem', 'image', 'images']\n",
            "['siua', 'via', 'sul', 'sala', 'sigma', 'visa', 'água', 'seja', 'sigla', 'sim', 'lua', 'rua', 'seu', 'fixa', 'guia', 'saiu', 'sopa', 'vila', 'cima', 'dica', 'sai', 'suas', 'vida', 'site', 'soma', 'sum', 'silva', 'tida', 'sinta', 'ia', 'sou', 'usa', 'fica', 'dia', 'suba', 'viva', 'side', 'seus', 'suar', 'suma', 'lida', 'souza', 'spa', 'sua', 'vira', 'seca', 'siga', 'seta', 'eua', 'tira', 'saia', 'sigam', 'fita', 'ira', 'dita', 'viu', 'sinuca', 'sub', 'sinal', 'eita', 'saiba', 'sido', 'sirva', 'atua', 'diga', 'rica', 'si']\n",
            "siua-sua-seu\n",
            "['tamvbém', 'também', 'tambem']\n",
            "['elpe', 'erre', 'epa', 'olhe', 'ep', 'leve', 'esse', 'pele', 'elses', 'este', 'nele', 'hype', 'lpi', 'expõe', 'elas', 'ee', 'ele', 'eles', 'ela', 'edge', 'dele', 'alpn', 'pipe', 'npe', 'help', 'erp', 'felipe', 'lhe', 'eloi']\n",
            "elpe-ele-esse\n",
            "['façzer', 'lazer', 'fizer', 'fazer', 'fazem']\n",
            "['teos', 'ios', 'to', 'termos', 'temo', 'tem', 'tão', 'três', 'mãos', 'medos', 'anos', 'meios', 'tons', 'pelos', 'egos', 'becos', 'terá', 'caos', 'tipos', 'úteis', 'test', 'tls', 'seis', 'menos', 'eis', 'rems', 'los', 'text', 'vemos', 'itens', 'textos', 'seo', 'tema', 'meus', 'usos', 'pesos', 'ceo', 'top', 'nos', 'tela', 'temos', 'secos', 'tech', 'zeros', 'te', 'tvs', 'dos', 'tese', 'telas', 'seus', 'toy', 'temas', 'teve', 'demos', 'tempos', 'tool', 'pros', 'os', 'tais', 'dedos', 'aos', 'lemos', 'tags', 'peso', 'tabs', 'ter', 'tom', 'devs', 'tensos', 'leis', 'todos', 'toa', 'trás']\n",
            "teos-temos-os\n",
            "['eũsa', 'dsa', 'esta', 'epa', 'mesa', 'visa', 'esse', 'eis', 'era', 'nasa', 'dessa', 'rsa', 'pesa', 'elas', 'rosa', 'usa', 'essa', 'ela', 'eua', 'pensa', 'nessa', 'essas', 'eita', 'esc', 'casa']\n",
            "eũsa-essa-esse\n",
            "['quaìdo', 'quadro', 'quatro', 'quarto', 'quanto', 'quando']\n",
            "['vjmos', 'vivos', 'fomos', 'ramos', 'vamos', 'íamos', 'vemos', 'damos', 'votos', 'vermos', 'temos', 'vamo', 'demos', 'vejamos', 'somos', 'lemos', 'vimos', 'rumos']\n",
            "vjmos-vamos-temos\n",
            "['sxobre', 'store', 'sobre', 'cobre']\n",
            "['jkva', 'leva', 'tava', 'joga', 'nova', 'javac', 'java', 'viva', 'neva', 'jpa', 'deva', 'luva']\n",
            "['dms', 'umas', 'ios', 'am', 'nos', 'um', 'fãs', 'em', 'às', 'sms', 'mb', 'der', 'dsa', 'diz', 'dói', 'me', 'ops', 'dois', 'diy', 'tvs', 'dos', 'dom', 'dns', 'css', 'dei', 'dia', 'dez', 'dá', 'imc', 'amp', 'duas', 'ads', 'nós', 'xml', 'js', 'dê', 'bmp', 'tls', 'd', 'da', 'demos', 'os', 'eis', 'dev', 'dan', 'as', 'rems', 'uns', 'los', 'dst', 'dias', 'das', 'ides', 'divs', 'us', 'lts', 'aos', 'do', 'dão', 'ifs', 'cs', 'desk', 'rm', 'nps', 'ids', 'daí', 'mês', 'ips', 'de', 'dor', 'vm', 'mas', 'dar', 'pmes', 'má', 'damos', 's', 'div', 'ns', 'ps', 'dup', 'hds', 'uma', 'devs', 'dose', 'adm', 'gás', 'vs', 'bmps', 'deu', 'dpx', 'db', 'nas', 'más', 'cm', 'smo', 'mm']\n",
            "dms-dos-de\n",
            "['agtora', 'altera', 'afora', 'ator', 'autoral', 'adora', 'autor', 'autoria', 'agora', 'altura']\n",
            "['esútá', 'esta', 'este', 'está']\n",
            "['cava', 'nave', 'aba', 'fada', 'leva', 'carga', 'tava', 'sala', 'caro', 'capaz', 'cta', 'caí', 'capas', 'card', 'causa', 'faça', 'case', 'usava', 'have', 'cast', 'nova', 'canva', 'caos', 'cama', 'javac', 'casca', 'caiu', 'cai', 'carla', 'java', 'cair', 'café', 'csv', 'nasa', 'cena', 'cara', 'vaga', 'calma', 'nada', 'cima', 'caixa', 'cv', 'canvas', 'caso', 'taxa', 'salva', 'acha', 'dada', 'haha', 'cabo', 'carta', 'lavar', 'data', 'cada', 'fala', 'gama', 'mapa', 'fama', 'ficava', 'cpa', 'viva', 'cria', 'neva', 'cola', 'haja', 'curva', 'cabe', 'davam', 'chama', 'canal', 'casas', 'cauda', 'baa', 'saia', 'paga', 'para', 'call', 'canta', 'chave', 'calc', 'casar', 'acaba', 'cain', 'capa', 'clara', 'maya', 'caia', 'coca', 'cuja', 'havia', 'casa', 'caras', 'deva', 'luva']\n",
            "cava-java-para\n",
            "['medmo', 'mesmos', 'temo', 'médio', 'medos', 'mergo', 'mesma', 'meio', 'medo', 'termo', 'metro', 'dedo', 'media', 'medir', 'nexmo', 'mesmo', 'mudo', 'modo', 'cedo', 'mede']\n",
            "['ános', 'ios', 'no', 'pngs', 'ands', 'donos', 'mãos', 'anos', 'tons', 'nov', 'egos', 'nós', 'caos', 'inss', 'menos', 'uns', 'los', 'ano', 'usos', 'sons', 'nps', 'nos', 'dos', 'dns', 'pros', 'os', 'aos', 'panos', 'ns', 'now', 'nas', 'bons']\n",
            "ános-nos-no\n",
            "['forûa', 'forças', 'for', 'bora', 'format', 'forem', 'folha', 'forçar', 'afora', 'formal', 'porta', 'mora', 'forma', 'força', 'foram', 'form', 'ora', 'torna', 'formas', 'fork', 'hora', 'norma', 'faria', 'fora', 'borda', 'forte', 'formar', 'forca', 'fera']\n",
            "['smeja', 'esteja', 'meça', 'mesa', 'veja', 'seja', 'meia', 'sejam', 'meta', 'almeja', 'mera', 'seca', 'seta', 'mega']\n",
            "['enjtão', 'então', 'estão']\n",
            "['criôar', 'citar', 'criar', 'cria', 'cuidar', 'brigar', 'clicar', 'criam']\n",
            "['cóàigo', 'códigos', 'comigo', 'código', 'codigo']\n",
            "['èaso', 'ao', 'faço', 'sao', 'caro', 'raio', 'case', 'lado', 'cast', 'acaso', 'isso', 'caos', 'dado', 'raro', 'ramo', 'sass', 'as', 'ano', 'falso', 'tato', 'nasa', 'passo', 'nano', 'fuso', 'mago', 'mas', 'caso', 'fase', 'fato', 'cabo', 'casos', 'ato', 'gasto', 'hash', 'papo', 'so', 'gato', 'vamo', 'task', 'falo', 'pass', 'paro', 'das', 'aos', 'peso', 'laço', 'base', 'uso', 'pago', 'casa', 'nas', 'mask']\n",
            "èaso-caso-as\n",
            "['exbemplo', 'exemplos', 'exemplo']\n",
            "['túem', 'temo', 'têm', 'tem', 'cem', 'time', 'vem', 'then', 'tema', 'saem', 'usem', 'terem', 'nem', 'irem', 'sem', 'tome', 'trim', 'em', 'bem', 'te', 'the', 'veem', 'item', 'theme', 'rem', 'ter', 'tom', 'quem', 'aem']\n",
            "túem-tem-em\n",
            "['usuárin', 'usuários', 'usuario', 'usuário']\n",
            "['daáos', 'pagos', 'lados', 'cabos', 'donos', 'ramos', 'anos', 'caos', 'dado', 'vamos', 'íamos', 'fatos', 'caros', 'damos', 'magos', 'casos', 'dos', 'laços', 'demos', 'das', 'dedos', 'aos', 'panos', 'dados', 'datas']\n",
            "daáos-dados-dos\n",
            "['pythoçn', 'python']\n",
            "['nossk', 'noise', 'posso', 'nesse', 'nisso', 'posse', 'nosso', 'nossas', 'nos', 'fosse', 'nossa', 'possa', 'nossos', 'nessa', 'npss']\n",
            "nossk-nosso-nosso\n",
            "['âlém', 'além']\n",
            "['aóssim', 'assim']\n",
            "['tãer', 'tar', 'tem', 'user', 'tão', 'then', 'terá', 'ler', 'vier', 'der', 'ser', 'te', 'the', 'per', 'tiver', 'tire', 'other', 'quer', 'ter', 'ver']\n",
            "tãer-ter-ser\n",
            "['vté', 'utc', 'vh', 'pt', 'via', 'tv', 'to', 'zé', 'vá', 'ué', 'pé', 'até', 'vez', 'te', 'cta', 'tvs', 'van', 'ti', 'vem', 'vou', 'vir', 'vim', 'vai', 'at', 'voo', 'é', 'lts', 'vão', 'viu', 'vê', 'vm', 'pré', 'vi', 'vr', 'v', 'ver', 'rt', 'vêm', 'etc', 'voz', 'vs', 'né', 'vw', 'tá', 'vue', 'ato']\n",
            "vté-até-é\n",
            "['búm', 'am', 'um', 'sum', 'em', 'ibm', 'mb', 'num', 'têm', 'bem', 'bi', 'tem', 'cem', 'dom', 'bug', 'vem', 'som', 'bom', 'boa', 'sim', 'bin', 'bmp', 'br', 'com', 'vim', 'b', 'baa', 'jam', 'rem', 'by', 'rm', 'vm', 'nem', 'fcm', 'tom', 'bam', 'sem', 'vêm', 'mim', 'adm', 'fim', 'aem', 'big', 'cm', 'bit', 'mm', 'bar']\n",
            "búm-bem-um\n",
            "['íesign', 'design']\n",
            "['trabèalho', 'trabalha', 'trabalhe', 'trabalhos', 'trabalho']\n",
            "['kfoi', 'for', 'koji', 'foi', 'fio', 'roi', 'fui', 'joi', 'eloi']\n",
            "['aapenas', 'apenas']\n",
            "['pmpresa', 'impressa', 'emprega', 'empresa', 'imprensa', 'presa', 'empresas']\n",
            "['valoqr', 'valor', 'calor', 'valer']\n",
            "['sçerá', 'terá', 'saberá', 'verá', 'será', 'ser', 'sairá']\n",
            "sçerá-será-ser\n",
            "['entró', 'entre', 'entrou', 'enter', 'centro', 'entrar', 'extra', 'entram', 'dentro', 'então', 'entrei', 'entra', 'dentre']\n",
            "entró-entre-então\n",
            "['nétodo', 'método', 'todo', 'nítido', 'métodos']\n",
            "['prefcisamos', 'precisarmos', 'precisamos', 'precisamo', 'precisemos']\n",
            "['sainda', 'santa', 'manda', 'panda', 'ainda', 'sinta', 'saída', 'anda', 'linda', 'saindo', 'salada', 'saia', 'saiba', 'sacada']\n",
            "['uai', 'a', 'utc', 'umas', 'am', 'ao', 'xi', 'via', 'um', 'saí', 'max', 'use', 'tar', 'sal', 'joi', 'pay', 'ué', 'sao', 'mais', 'mar', 'ali', 'dói', 'bi', 'par', 'ia', 'usa', 'usam', 'uau', 'raio', 'caí', 'van', 'tab', 'tal', 'ruas', 'ti', 'url', 'dei', 'dia', 'usp', 'ah', 'i', 'sair', 'pais', 'ii', 'na', 'foi', 'suar', 'duas', 'api', 'faz', 'main', 'caiu', 'da', 'adi', 'unir', 'tais', 'usei', 'lua', 'sua', 'uris', 'cai', 'dan', 'rua', 'as', 'vai', 'uns', 'tag', 'at', 'eua', 'ufa', 'baa', 'mal', 'cair', 'das', 'saia', 'roi', 'us', 'dali', 'guia', 'qual', 'raiz', 'ar', 'saiu', 'unit', 'pau', 'jam', 'uri', 'ead', 'map', 'unix', 'ux', 'ai', 'pai', 'iii', 'jar', 'daí', 'aí', 'mas', 'gae', 'vi', 'quais', 'dar', 'hci', 'mac', 'ui', 'usb', 'uso', 'usar', 'paz', 'raw', 'cain', 'bam', 'uma', 'lpi', 'aqui', 'caia', 'sai', 'sei', 'li', 'suas', 'jan', 'yuri', 'nas', 'si', 'lei', 'gui', 'fui', 'bar']\n",
            "uai-vai-a\n",
            "['cĩonteúdo', 'conteúdo', 'contendo', 'conteúdos']\n",
            "['sâus', 'sms', 'sul', 'plus', 'seis', 'sass', 'seu', 'us', 'meus', 'sons', 'suas', 'sum', 'slugs', 'sou', 'seus', 'sua', 'sub']\n",
            "sâus-seus-seu\n",
            "['ìeu', 'len', 'em', 'pep', 'edu', 'ed', 'der', 'meu', 'web', 'bem', 'ee', 'tem', 'me', 'sou', 'ser', 'vez', 'cem', 'new', 'te', 'uau', 'eu', 'per', 'dei', 'vem', 'ou', 'sec', 'dez', 'seus', 'vou', 'ie', 'ep', 'set', 'wed', 'pen', 'dev', 'seu', 'eua', 'seo', 'pau', 'rem', 'meus', 'ce', 'viu', 'ex', 'de', 'ter', 'get', 'nem', 'onu', 'se', 'key', 'ver', 'e', 'sem', 'cep', 'ceo', 'que', 'sei', 'fu', 'gnu', 'fez', 'deu', 'menu', 'ler', 'see', 'aem', 'lei', 'leu', 'vue']\n",
            "ìeu-seu-de\n",
            "['todás', 'modos', 'tons', 'toda', 'todo', 'todos', 'todas', 'trás']\n",
            "['utempo', 'temo', 'tempo', 'tempos']\n",
            "['sempce', 'sempre']\n",
            "['fual', 'nula', 'fujam', 'sul', 'full', 'flat', 'ruas', 'fatal', 'igual', 'lua', 'rua', 'usual', 'ufa', 'final', 'fuso', 'atual', 'facul', 'aula', 'suas', 'fuja', 'fui', 'sal', 'fala', 'uau', 'fiel', 'pull', 'tal', 'url', 'suar', 'duas', 'futsal', 'faz', 'fill', 'falo', 'sua', 'paul', 'fale', 'eua', 'mal', 'qual', 'null', 'real', 'fu']\n",
            "fual-qual-sua\n",
            "['elal', 'pela', 'nela', 'pelas', 'flat', 'nelas', 'delas', 'epa', 'lead', 'geral', 'era', 'email', 'tela', 'sal', 'elas', 'ele', 'eles', 'tal', 'telas', 'plan', 'ela', 'delay', 'legal', 'lean', 'eram', 'eua', 'dell', 'mal', 'qual', 'call', 'ead', 'bela', 'play', 'dela', 'real', 'all', 'eloi']\n",
            "elal-ela-ele\n",
            "['skó', 'sum', 'saí', 'sal', 'são', 'sms', 'sao', 'sul', 'sol', 'sou', 'ser', 'so', 'som', 'sec', 'kkk', 'sim', 'set', 'sdk', 'só', 'spa', 'sua', 'seu', 'seo', 'sp', 'k', 'src', 'sub', 'sql', 'ok', 's', 'se', 'sem', 'ssl', 'sai', 'sei', 'sob', 'svg', 'see', 'si', 'smo']\n",
            "skó-só-se\n",
            "['utilĩzar', 'utilizam', 'utiliza', 'utilizar', 'utilizará']\n",
            "['proójeto', 'projetos', 'projeto']\n",
            "['isite', 'isto', 'visita', 'write', 'digite', 'este', 'sete', 'site', 'noite', 'side', 'evite', 'sites', 'hesite', 'cite', 'visite', 'limite', 'edite']\n",
            "['secm', 'tem', 'cem', 'vem', 'seja', 'sim', 'set', 'seis', 'seu', 'seo', 'saem', 'src', 'sede', 'usem', 'sejam', 'sete', 'nem', 'fcm', 'sem', 'será', 'serem', 'recém', 'sum', 'em', 'secos', 'bem', 'tech', 'ser', 'veem', 'som', 'sec', 'seus', 'seco', 'seca', 'seta', 'spam', 'rem', 'se', 'sei', 'esc', 'see', 'aem', 'cm']\n",
            "secm-sem-em\n",
            "['pẽlo', 'pela', 'palco', 'pelos', 'puro', 'pele', 'pelo', 'pro', 'paulo', 'nulo', 'bolo', 'belo', 'papo', 'pull', 'falo', 'paro', 'pulo', 'pego', 'pule', 'peso', 'pago', 'puxo', 'pico']\n",
            "['aluéa', 'alguém', 'alguma', 'além', 'alfa', 'aluno', 'lua', 'maluca', 'acusa', 'alta', 'ajuda', 'aula', 'aluna', 'alunas', 'luta', 'alma', 'aquém', 'atua', 'alura', 'altura', 'luva']\n",
            "aluéa-alura-além\n",
            "['dil', 'xi', 'via', 'ide', 'útil', 'sal', 'git', 'ip', 'der', 'dsa', 'sul', 'ali', 'diz', 'dói', 'sol', 'digo', 'bi', 'ia', 'dois', 'diy', 'dos', 'dito', 'fiel', 'dom', 'tal', 'dns', 'ti', 'url', 'dei', 'dia', 'i', 'pin', 'itil', 'dez', 'lib', 'dá', 'ii', 'dele', 'file', 'pid', 'edit', 'fio', 'ie', 'xml', 'cin', 'sim', 'vir', 'bin', 'dê', 'mil', 'd', 'da', 'fill', 'adi', 'id', 'eis', 'vim', 'dev', 'dan', 'l', 'dst', 'dell', 'dias', 'mal', 'das', 'divs', 'dali', 'do', 'dão', 'dita', 'pip', 'vila', 'ai', 'viu', 'iii', 'zip', 'ids', 'daí', 'de', 'ágil', 'dor', 'vi', 'sql', 'dar', 'ui', 'in', 'div', 'dela', 'dup', 'diga', 'dica', 'fiz', 'rio', 'ssl', 'mim', 'ir', 'li', 'deu', 'fim', 'all', 'dpx', 'db', 'big', 'si', 'bit', 'gif', 'fix']\n",
            "dil-dia-de\n",
            "['tudy', 'sudo', 'pude', 'body', 'ruby', 'tudo', 'tida', 'toda', 'toy', 'muda', 'mudo', 'todo', 'mude', 'tido']\n",
            "['qelay', 'pela', 'nela', 'pelas', 'nelas', 'delas', 'tela', 'elas', 'telas', 'ela', 'delay', 'bela', 'play', 'dela']\n",
            "['sód', 'sum', 'saí', 'sal', 'são', 'sms', 'ed', 'end', 'sudo', 'sao', 'sul', 'dói', 'sol', 'sou', 'ser', 'so', 'psd', 'som', 'sec', 'side', 'pid', 'nós', 'sim', 'set', 'wed', 'd', 'sdk', 'só', 'spa', 'id', 'sua', 'seu', 'xd', 'seo', 'sp', 'ead', 'src', 'sede', 'sub', 'sql', 's', 'and', 'se', 'sido', 'sem', 'ssl', 'sai', 'sei', 'sob', 'add', 'svg', 'see', 'si', 'smo', 'hd']\n",
            "sód-só-se\n",
            "['dtilizacr', 'utilizar']\n",
            "['bprojõto', 'projeto']\n",
            "['ysiteo', 'site', 'sites']\n",
            "['sõêm', 'têm', 'sim', 'saem', 'sem', 'vêm', 'sum', 'som', 'spam']\n",
            "['peàli', 'pela', 'perdi', 'pele', 'pelo', 'pedi']\n",
            "['asuraó', 'alura']\n",
            "['deiìa', 'deixar', 'leia', 'devida', 'decida', 'dedica', 'dessa', 'meia', 'edita', 'dica', 'deixam', 'feita', 'veia', 'dera', 'ideia', 'dei', 'dia', 'desta', 'defina', 'devia', 'deixe', 'dita', 'deixa', 'eita', 'dela', 'diga', 'deixo', 'deva']\n",
            "['tuĩdoì', 'tudo']\n",
            "['eúaa', 'elas', 'essa', 'esta', 'etapa', 'epa', 'ela', 'eram', 'era', 'eua', 'baa', 'exata', 'ead', 'eita']\n",
            "eúaa-aeúaa-essa\n",
            "['ró', 'a', 'n', 'w', 'vh', 'am', 'no', 'ao', 'xi', 'pt', 'rh', 'g', 'um', 'em', 'tv', 'rpg', 'to', 'pq', 'zé', 'vá', 'às', 'ed', 'mb', 'ip', 'f', 'ué', 'pé', 'of', 'dói', 'bi', 'ee', 'ia', 'on', 'me', 'ch', 'run', 'te', 'so', 'p', 'eu', 'ron', 'prós', 'lá', 'ti', 'url', 'j', 'ah', 'ou', 'i', 'dá', 'ii', 'na', 'à', 'nós', 'y', 'ie', 'ep', 'js', 'dê', 'cá', 'pra', 'br', 'd', 'da', 'o', 'px', 'só', 'os', 'id', 'erp', 'b', 'nf', 'rá', 'rua', 'cro', 'as', 'era', 'at', 'já', 'xx', 'l', 'é', 'row', 'roi', 'z', 'x', 'us', 'pr', 'xd', 'ar', 'do', 'sp', 'arc', 'k', 'irá', 'á', 'ira', 'uri', 'rem', 'ux', 'rsa', 'cs', 'by', 'pc', 'ai', 'pro', 'ce', 'src', 'rm', 'gb', 'are', 'vê', 'aí', 'ex', 'de', 'vm', 'pré', 'vi', 'r', 'vr', 'ok', 'v', 'h', 'má', 'ui', 'in', 'go', 's', 'se', 'cv', 'ns', 'ps', 'rt', 'raw', 'c', 'e', 'há', 'rio', 'wc', 'fu', 'lê', 'ir', 'vs', 'li', 'né', 'vw', 'ora', 'fã', 'db', 'tá', 'py', 'si', 'cm', 'mm', 'hd']\n",
            "ró-só-de\n",
            "['utilizẽaçr', 'utilizar']\n",
            "['prêjetó', 'projeto']\n",
            "['sqiqte', 'site', 'sqlite']\n",
            "['sũexm', 'saem', 'sem']\n",
            "['pçlxo', 'palco', 'pelo', 'pulo', 'puxo']\n",
            "['uluraa', 'ultra', 'alura', 'plural']\n",
            "['dĩaz', 'dsa', 'diz', 'traz', 'da', 'dan', 'dar', 'dia', 'dez', 'duas', 'faz', 'dias', 'das', 'daí', 'paz', 'drax']\n",
            "dĩaz-adĩaz-da\n",
            "['kzudo', 'sudo', 'tudo', 'kondo', 'mudo']\n",
            "['correptor', 'correto', 'corretor', 'corretos']\n",
            "correptor-corretor-correto\n",
            "['trtica', 'pratica', 'tática', 'ética', 'prática', 'ótica', 'rica', 'crítica', 'troca']\n",
            "trtica-tática-prática\n",
            "['ewpoderamento']\n",
            "ewpoderamento-aewpoderamento-ewpoderamento\n",
            "['lifux', 'linux', 'ligue', 'flux']\n",
            "['cachoçro']\n",
            "cachoçro-acachoçro-cachoçro\n",
            "['îgato', 'exato', 'chato', 'tato', 'fato', 'ato', 'gasto', 'gato']\n",
            "îgato-gato-fato\n",
            "['cakvalo']\n",
            "cakvalo-acakvalo-cakvalo\n",
            "['relógiuo', 'religião', 'relógio', 'relógios']\n",
            "['canelac', 'canetas', 'janela', 'cancelar', 'caneta']\n",
            "canelac-acanelac-janela\n",
            "['tênisy']\n",
            "tênisy-atênisy-tênisy\n",
            "['anciosa', 'aciona']\n",
            "anciosa-aanciosa-aciona\n",
            "['ancciosa']\n",
            "ancciosa-aancciosa-ancciosa\n",
            "['ansioa', 'anseios', 'antiga', 'ensina', 'insira']\n",
            "ansioa-aansioa-ensina\n",
            "['empoderamento']\n",
            "['asterístico']\n",
            "asterístico-aasterístico-asterístico\n",
            "['gratuíto', 'gratuitos', 'gratuita', 'gratuito']\n",
            "['entertido', 'invertido', 'entendido']\n",
            "entertido-aentertido-entendido\n",
            "['ritimo', 'ótimo', 'ritmo', 'último']\n",
            "ritimo-ritmo-ótimo\n",
            "['indiota', 'invista', 'idioma', 'insista', 'indica']\n",
            "indiota-aindiota-indica\n",
            "['tomare', 'compre', 'tome', 'tomada', 'tomasse', 'tomam', 'tomar', 'tocar', 'toma', 'somar']\n",
            "tomare-tomar-tomar\n",
            "['seje', 'some', 'hoje', 'veja', 'seja', 'leve', 'set', 'seis', 'esse', 'segue', 'seu', 'pele', 'seo', 'este', 'nele', 'sede', 'seres', 'sejam', 'sete', 'serve', 'sabe', 'sem', 'será', 'site', 'serem', 'deve', 'pede', 'sente', 'ee', 'seide', 'ele', 'ser', 'tese', 'steve', 'serei', 'sec', 'side', 'dele', 'seus', 'deseje', 'vejo', 'seco', 'teve', 'sedes', 'gere', 'seca', 'seta', 'neve', 'mexe', 'se', 'rede', 'sei', 'mede', 'see', 'safe']\n",
            "seje-seja-se\n",
            "['provalecer', 'prevalece', 'prevaleceu']\n",
            "provalecer-aprovalecer-prevalece\n",
            "['esteje', 'estejam', 'estes', 'esteja', 'espere', 'este', 'estive', 'estude', 'steve', 'esteve', 'deseje']\n",
            "esteje-esteja-este\n",
            "['mindigo', 'indico']\n",
            "mindigo-amindigo-indico\n",
            "['célebro', 'cérebro']\n",
            "['pertubar']\n",
            "pertubar-apertubar-pertubar\n",
            "55.38% de 186 palavras, desconhecida é 8.06%\n"
          ]
        }
      ]
    },
    {
      "cell_type": "code",
      "source": [
        "def avaliador(testes, vocabulario):\n",
        "    numero_palavras = len(testes)\n",
        "    acertou = 0\n",
        "    desconhecida = 0\n",
        "    for correta, errada in testes:\n",
        "        palavra_corrigida = corretor(errada)\n",
        "        desconhecida += (correta not in vocabulario) \n",
        "        if palavra_corrigida == correta:\n",
        "            acertou += 1\n",
        "    taxa_acerto = round(acertou*100/numero_palavras, 2)\n",
        "    tx_palavras_desconhecidas = round(desconhecida * 100/numero_palavras, 2)\n",
        "    print(f\"{taxa_acerto}% de {numero_palavras} palavras, desconhecida é {tx_palavras_desconhecidas}%\")\n",
        "\n",
        "vocabulario = set(lista_normalizada)\n",
        "avaliador(lista_teste, vocabulario)"
      ],
      "metadata": {
        "colab": {
          "base_uri": "https://localhost:8080/"
        },
        "id": "64_oTU6YsF0w",
        "outputId": "17c1a232-2c3b-479e-f7cf-7c3e4d6bf9d2"
      },
      "execution_count": 51,
      "outputs": [
        {
          "output_type": "stream",
          "name": "stdout",
          "text": [
            "75.81% de 186 palavras, desconhecida é 8.06%\n"
          ]
        }
      ]
    },
    {
      "cell_type": "code",
      "source": [
        "print(novo_corretor(\"lgica\"))\n",
        "print(corretor(\"lgica\"))"
      ],
      "metadata": {
        "colab": {
          "base_uri": "https://localhost:8080/"
        },
        "id": "gD9C7JGAvL5h",
        "outputId": "dd9296bd-5235-44ec-8e19-b522c0888ccd"
      },
      "execution_count": 52,
      "outputs": [
        {
          "output_type": "stream",
          "name": "stdout",
          "text": [
            "['lgica', 'mágica', 'leia', 'lógica', 'clica', 'única', 'bélgica', 'dica', 'luiza', 'fica', 'ética', 'lida', 'lógico', 'ótica', 'lógicas', 'rica']\n",
            "fica\n",
            "lógica\n"
          ]
        }
      ]
    },
    {
      "cell_type": "code",
      "source": [
        ""
      ],
      "metadata": {
        "id": "LBMOsIlFvhIl"
      },
      "execution_count": null,
      "outputs": []
    }
  ]
}